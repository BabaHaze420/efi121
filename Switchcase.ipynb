{
 "cells": [
  {
   "cell_type": "markdown",
   "metadata": {},
   "source": [
    "# Switch-Case- Mehrfachauswahl"
   ]
  },
  {
   "cell_type": "code",
   "execution_count": null,
   "metadata": {},
   "outputs": [],
   "source": [
    "// Alternative zu vielen If Abfragen:\n",
    "import java.util.*;\n",
    "Scanner scan=new Scanner(System.in);\n",
    "String i=scan.next();\n",
    "switch(i){\n",
    "    case \"Hallo\":\n",
    "        System.out.println(\"Sie haben Hallo eingegeben\");\n",
    "        break;\n",
    "    case \"Bye\":\n",
    "        System.out.println(\"Sie haben Bye eingegeben\");\n",
    "        break;\n",
    "    default:\n",
    "        System.out.println(\" Kein passenden case gefunden\");\n",
    "}"
   ]
  },
  {
   "cell_type": "code",
   "execution_count": 15,
   "metadata": {},
   "outputs": [
    {
     "name": "stdout",
     "output_type": "stream",
     "text": [
      "Was möchten Sie tun?\n",
      "1. Nutzer hinzufügen\n",
      "2. Nutzername anzeigen\n",
      "3. Liste mit Nutzernummern und Nutzername anzeigen\n",
      "4. Nutzer löschen\n",
      "5. Prüfen ob ein Nutzer vorhanden ist n\n",
      "6. Beenden\n"
     ]
    },
    {
     "name": "stdin",
     "output_type": "stream",
     "text": [
      " 4\n"
     ]
    },
    {
     "name": "stdout",
     "output_type": "stream",
     "text": [
      "Welcher user soll entfernt? ((User ID))\n"
     ]
    },
    {
     "name": "stdin",
     "output_type": "stream",
     "text": [
      " 2\n"
     ]
    },
    {
     "ename": "ERROR",
     "evalue": " java.lang.IndexOutOfBoundsException",
     "output_type": "error",
     "text": "ERROR: java.lang.IndexOutOfBoundsException: Index: 2, Size: 0",
     "traceback": [
      "\u001b[1;31mERROR: java.lang.IndexOutOfBoundsException: Index: 2, Size: 0\u001b[0;0m"
     ]
    }
   ],
   "source": [
    "// ArrayList Übungsaufgabe 2 mit Switch-Case\n",
    "import java.util.*;\n",
    "Scanner scan=new Scanner(System.in);\n",
    "ArrayList<String> users=new ArrayList<>();\n",
    "while(true){\n",
    "    System.out.println(\"Was möchten Sie tun?\");\n",
    "    System.out.println(\"1. Nutzer hinzufügen\");\n",
    "    System.out.println(\"2. Nutzername anzeigen\");\n",
    "    System.out.println(\"3. Liste mit Nutzernummern und Nutzername anzeigen\");\n",
    "    System.out.println(\"4. Nutzer löschen\");\n",
    "    System.out.println(\"5. Prüfen ob ein Nutzer vorhanden ist n\");\n",
    "    System.out.println(\"6. Beenden\");\n",
    "    int i=scan.nextInt();\n",
    "    switch(i){\n",
    "        case 1: \n",
    "            System.out.println(\"Bitte Nutzername eingeben\");\n",
    "            String user=scan.next();\n",
    "            users.add(user);\n",
    "            break;\n",
    "        case 2:\n",
    "            System.out.println(\"Bitte User ID eingeben\");\n",
    "            int nr=scan.nextInt();\n",
    "            System.out.println(users.get(nr));\n",
    "            break;\n",
    "        case 3:\n",
    "            for(int x=0;x<users.size();x++) System.out.println((x+1)+\": \"+users.get(x));\n",
    "            break;\n",
    "        case 4: \n",
    "            System.out.println(\"Welcher user soll entfernt? ((User ID))\");\n",
    "            int number=scan.nextInt();\n",
    "            users.remove(number);\n",
    "            break;\n",
    "        case 5:\n",
    "            System.out.println(\"Bitte User Name eingeben\");\n",
    "            String usercheck=scan.next();\n",
    "            if(users.contains(usercheck)) System.out.println(\"Den User gibt es\");\n",
    "            else System.out.println(\"Den User gibt es nicht\");\n",
    "            break;\n",
    "        case 6:\n",
    "            System.exit(0);\n",
    "            break;\n",
    "    }\n",
    "    System.out.println();\n",
    "}"
   ]
  },
  {
   "cell_type": "code",
   "execution_count": null,
   "metadata": {},
   "outputs": [],
   "source": []
  },
  {
   "cell_type": "code",
   "execution_count": null,
   "metadata": {},
   "outputs": [],
   "source": []
  },
  {
   "cell_type": "code",
   "execution_count": null,
   "metadata": {},
   "outputs": [],
   "source": []
  }
 ],
 "metadata": {
  "kernelspec": {
   "display_name": "Java",
   "language": "java",
   "name": "java"
  },
  "language_info": {
   "codemirror_mode": "text/x-java",
   "file_extension": ".java",
   "mimetype": "",
   "name": "Java",
   "nbconverter_exporter": "",
   "version": "1.8.0_25"
  }
 },
 "nbformat": 4,
 "nbformat_minor": 4
}
