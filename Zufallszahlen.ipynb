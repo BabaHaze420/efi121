{
 "cells": [
  {
   "cell_type": "markdown",
   "id": "2ac56369-4cc8-4333-9833-9c72d6ea74e3",
   "metadata": {},
   "source": [
    "# Zufallszahlen \n",
    "In Java stehen bereits fertige Klassen mit hilfreichen Funktionen/Methoden zur Verfügung.  \n",
    "Für mathematische Problme und Zufallszahlen steht z.B. die Klasse \"Math\" zur Verfügung."
   ]
  },
  {
   "cell_type": "markdown",
   "id": "4d2aeacb-ac7d-48bc-9b21-63553f5bf578",
   "metadata": {},
   "source": [
    "double zufall=Math.random(); // liefert zufälig eine Zahl zwischen 0 und 0,9999999999999999\n",
    "System.out.println(zufall);\n",
    "\n",
    "## Würfel mit Math.random()\n",
    "Math.random() liefert eine Zufallszahl zwischen 0 und 0.999999....\n",
    "![Bild](https://raw.githubusercontent.com/sttoraus/Teaching-/master/ftit.JPG)"
   ]
  },
  {
   "cell_type": "markdown",
   "id": "e729406d-7676-4563-bc6e-0078e9a9c446",
   "metadata": {},
   "source": [
    "**Aufgabe1**: Implementieren Sie 2 Würfel und geben Sie anschließend die Summe der beiden Würfel aus. Nachjedem Wurf soll der Benutzer gefragt werden, ob erneut gewürfelt werden soll (j/n)."
   ]
  },
  {
   "cell_type": "code",
   "execution_count": 5,
   "id": "707e6922-e579-4eca-addb-4d5eaa65dac4",
   "metadata": {},
   "outputs": [
    {
     "name": "stdout",
     "output_type": "stream",
     "text": [
      "Summe: 11\n"
     ]
    },
    {
     "name": "stdin",
     "output_type": "stream",
     "text": [
      " j\n"
     ]
    },
    {
     "name": "stdout",
     "output_type": "stream",
     "text": [
      "Summe: 4\n"
     ]
    },
    {
     "name": "stdin",
     "output_type": "stream",
     "text": [
      " j\n"
     ]
    },
    {
     "name": "stdout",
     "output_type": "stream",
     "text": [
      "Summe: 9\n"
     ]
    },
    {
     "name": "stdin",
     "output_type": "stream",
     "text": [
      " n\n"
     ]
    }
   ],
   "source": [
    "Scanner scan=new Scanner(System.in);\n",
    "String wdh;\n",
    "do{\n",
    "    int wuerfel1=(int)(Math.random()*6+1);\n",
    "    int wuerfel2=(int)(Math.random()*6+1);\n",
    "    int summe=wuerfel1+wuerfel2;\n",
    "    System.out.println(\"Summe: \"+summe);\n",
    "    wdh=scan.next();\n",
    "}while(wdh.charAt(0)=='j');"
   ]
  },
  {
   "cell_type": "code",
   "execution_count": 1,
   "id": "d1790855-911e-4dc6-851a-84c8ffecd171",
   "metadata": {
    "jupyter": {
     "source_hidden": true
    },
    "tags": []
   },
   "outputs": [
    {
     "name": "stdout",
     "output_type": "stream",
     "text": [
      "Summe beträgt 7\n",
      "Möchten Sie erneut würfeln?\n"
     ]
    },
    {
     "name": "stdin",
     "output_type": "stream",
     "text": [
      " n\n"
     ]
    }
   ],
   "source": [
    "String wdh;\n",
    "Scanner scan=new Scanner(System.in);\n",
    "do{\n",
    "    int wuerfel1=(int)(Math.random()*6+1);\n",
    "    int wuerfel2=(int)(Math.random()*6+1);\n",
    "    int summe=wuerfel1+wuerfel2;\n",
    "    System.out.println(\"Summe beträgt \"+summe);\n",
    "    System.out.println(\"Möchten Sie erneut würfeln?\");\n",
    "    wdh=scan.next();\n",
    "}while(wdh.charAt(0)!='n');"
   ]
  },
  {
   "cell_type": "markdown",
   "id": "aa6eae91-1d3a-40a1-b317-3aa715360b28",
   "metadata": {},
   "source": [
    "**Aufgabe2**: Implementieren Sie eine Lottoziehung sowie ein Tipp über die Bildschirmeingabe. Prüfen Sie anschließend, wie viele zahlen richtig getippt wurden."
   ]
  },
  {
   "cell_type": "code",
   "execution_count": null,
   "id": "80315469-9419-41cd-92e1-7b963874e57a",
   "metadata": {
    "tags": []
   },
   "outputs": [],
   "source": [
    "int[] user=new int[6];\n",
    "int[] pc=new int[6];\n",
    "Scanner scan=new Scanner(System.in);\n",
    "for(int i=0;i<6;i++){\n",
    "    System.out.println(\"Ihr Tipp\");\n",
    "    user[i]=scan.nextInt();\n",
    "    int zufall=(int) (Math.random()*49+1);\n",
    "    pc[i]=zufall;\n",
    "    System.out.println(zufall);\n",
    "}\n",
    "int counter=0;\n",
    "for(int i:user)System.out.println(\"user \"+i);\n",
    "for(int i:pc)System.out.println(\"pc \"+i);\n",
    "for(int i=0;i<6;i++){\n",
    "    for(int y=0;y<6;y++){\n",
    "        if(user[i]==pc[y])counter++;\n",
    "    }\n",
    "}\n",
    "System.out.println(\"counter \"+counter);"
   ]
  },
  {
   "cell_type": "code",
   "execution_count": null,
   "id": "7fba25dd-506b-4dfd-808f-3b298bd99075",
   "metadata": {},
   "outputs": [],
   "source": []
  }
 ],
 "metadata": {
  "kernelspec": {
   "display_name": "Java",
   "language": "java",
   "name": "java"
  },
  "language_info": {
   "codemirror_mode": "java",
   "file_extension": ".jshell",
   "mimetype": "text/x-java-source",
   "name": "Java",
   "pygments_lexer": "java",
   "version": "11.0.16+8-post-Ubuntu-0ubuntu120.04"
  }
 },
 "nbformat": 4,
 "nbformat_minor": 5
}
