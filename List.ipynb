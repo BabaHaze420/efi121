{
 "cells": [
  {
   "cell_type": "markdown",
   "metadata": {},
   "source": [
    "# Java Collections Framework- List\n",
    "Arrays können zwar auch Objekte beinhalten, haben aber den Nachteil, dass die Anzahl der Elemente zu Beginn definiert werden muss. Ist die genaue Anzahl nicht bekannt, kann dies zu Problemen führen.  \n",
    "Eine Collection ist in Java ein Objekt, das andere Objekte in einer Sammlungsstruktur verwaltet. Es gibt eine Vielzahl unterschiedlicher Sammlungstypen für ganz unterschiedliche Zwecke. Die Menge dieser Sammlungstypen wird als Collections Framework bezeichnet. Im weiteren wird die \"List\" betrachtet.  \n",
    "Eine Liste ist eine geordnete Objektsammlung, in der Duplikate erlaubt sind. \n"
   ]
  },
  {
   "cell_type": "code",
   "execution_count": null,
   "metadata": {},
   "outputs": [],
   "source": [
    "// Beispiel. Liste aus String-Objekten\n",
    "ArrayList<String> fruechte = new ArrayList<>();"
   ]
  },
  {
   "cell_type": "markdown",
   "metadata": {},
   "source": [
    "Um mit Listen zu arbeiten, werden Methoden benötigt. Hier die wichtigsten im Überblick:  \n",
    "\n",
    "|   |   |  \n",
    "|---|---|\n",
    "| add(E element)  |Fügt ein neues Element an das Ende der Liste hinzu   | \n",
    "|  get(int index) |  \tLiefert das Element mit dem gewählten Index  | \n",
    "|remove(int index)   | Löscht das Element mit dem gewählten Index  | \n",
    "|set(int index, E element)|Ersetzt ein Element mit einem anderen auf der gewählten Index-Position|\n",
    "|size()|Liefert die Größe der Liste zurück|"
   ]
  },
  {
   "cell_type": "code",
   "execution_count": 12,
   "metadata": {},
   "outputs": [
    {
     "name": "stdout",
     "output_type": "stream",
     "text": [
      "Traube\n",
      "4\n",
      "3\n"
     ]
    },
    {
     "data": {
      "text/plain": [
       "null"
      ]
     },
     "execution_count": 12,
     "metadata": {},
     "output_type": "execute_result"
    }
   ],
   "source": [
    "import java.util.*;\n",
    "ArrayList<String> fruechte = new ArrayList<>();\n",
    "// Elemente hinzufügen\n",
    "fruechte.add(\"Kiwi\");\n",
    "fruechte.add(\"Apfel\");\n",
    "fruechte.add(\"Traube\");\n",
    "fruechte.add(\"Ananas\");\n",
    "\n",
    "System.out.println(fruechte.get(2)); // liefert Traube\n",
    "fruechte.set(1, \"Birne\"); // Ändert Apfel für Birne\n",
    "System.out.println(fruechte.size()); // liefert 4\n",
    "fruechte.remove(0);\n",
    "System.out.println(fruechte.size()); "
   ]
  },
  {
   "cell_type": "code",
   "execution_count": null,
   "metadata": {},
   "outputs": [],
   "source": []
  },
  {
   "cell_type": "markdown",
   "metadata": {},
   "source": [
    "## Verwendung mit Schleife"
   ]
  },
  {
   "cell_type": "code",
   "execution_count": 14,
   "metadata": {},
   "outputs": [
    {
     "name": "stdout",
     "output_type": "stream",
     "text": [
      "Kiwi\n",
      "Apfel\n",
      "Traube\n",
      "Ananas\n"
     ]
    },
    {
     "data": {
      "text/plain": [
       "null"
      ]
     },
     "execution_count": 14,
     "metadata": {},
     "output_type": "execute_result"
    }
   ],
   "source": [
    "import java.util.*;\n",
    "ArrayList<String> fruechte = new ArrayList<>();\n",
    "// Elemente hinzufügen\n",
    "fruechte.add(\"Kiwi\");\n",
    "fruechte.add(\"Apfel\");\n",
    "fruechte.add(\"Traube\");\n",
    "fruechte.add(\"Ananas\");\n",
    "for(int i=0;i<fruechte.size();i++){\n",
    "    System.out.println(fruechte.get(i));\n",
    "}"
   ]
  },
  {
   "cell_type": "code",
   "execution_count": 15,
   "metadata": {},
   "outputs": [
    {
     "name": "stdout",
     "output_type": "stream",
     "text": [
      "Kiwi\n",
      "Apfel\n",
      "Traube\n",
      "Ananas\n"
     ]
    },
    {
     "data": {
      "text/plain": [
       "null"
      ]
     },
     "execution_count": 15,
     "metadata": {},
     "output_type": "execute_result"
    }
   ],
   "source": [
    "//einfacher mit for-each\n",
    "import java.util.*;\n",
    "ArrayList<String> fruechte = new ArrayList<>();\n",
    "// Elemente hinzufügen\n",
    "fruechte.add(\"Kiwi\");\n",
    "fruechte.add(\"Apfel\");\n",
    "fruechte.add(\"Traube\");\n",
    "fruechte.add(\"Ananas\");\n",
    "for(String i : fruechte){\n",
    "    System.out.println(i);\n",
    "}"
   ]
  },
  {
   "cell_type": "code",
   "execution_count": 18,
   "metadata": {},
   "outputs": [
    {
     "name": "stdout",
     "output_type": "stream",
     "text": [
      "7\n",
      "2\n",
      "10\n",
      "3\n",
      "5\n"
     ]
    },
    {
     "data": {
      "text/plain": [
       "null"
      ]
     },
     "execution_count": 18,
     "metadata": {},
     "output_type": "execute_result"
    }
   ],
   "source": [
    "// Übungsaufgabe 1 extra-Blatt\n",
    "import java.util.*;\n",
    "ArrayList<Integer> zahlen=new ArrayList<>();\n",
    "zahlen.add(1);\n",
    "zahlen.add(2);\n",
    "zahlen.add(3);\n",
    "zahlen.add(4);\n",
    "zahlen.add(5);\n",
    "zahlen.remove(zahlen.size()-2);\n",
    "zahlen.add(2,10);\n",
    "zahlen.set(0,7);\n",
    "for(int i:zahlen)System.out.println(i);"
   ]
  },
  {
   "cell_type": "code",
   "execution_count": 19,
   "metadata": {},
   "outputs": [
    {
     "name": "stdout",
     "output_type": "stream",
     "text": [
      "Bitte Zahl eingeben\n"
     ]
    },
    {
     "name": "stdin",
     "output_type": "stream",
     "text": [
      " 3\n"
     ]
    },
    {
     "name": "stdout",
     "output_type": "stream",
     "text": [
      "Bitte Zahl eingeben\n"
     ]
    },
    {
     "name": "stdin",
     "output_type": "stream",
     "text": [
      " 5\n"
     ]
    },
    {
     "name": "stdout",
     "output_type": "stream",
     "text": [
      "Bitte Zahl eingeben\n"
     ]
    },
    {
     "name": "stdin",
     "output_type": "stream",
     "text": [
      " 99\n"
     ]
    },
    {
     "data": {
      "text/plain": [
       "null"
      ]
     },
     "execution_count": 19,
     "metadata": {},
     "output_type": "execute_result"
    }
   ],
   "source": [
    "// Übungsaufgabe 1 extra-Blatt\n",
    "import java.util.*;\n",
    "ArrayList<Integer> zahlen=new ArrayList<>();\n",
    "int zahl;\n",
    "Scanner scan =new Scanner(System.in);\n",
    "do{\n",
    "    System.out.println(\"Bitte Zahl eingeben\");\n",
    "    zahl=scan.nextInt();\n",
    "}while(zahl!=99);\n"
   ]
  },
  {
   "cell_type": "markdown",
   "metadata": {},
   "source": [
    "## Aufgabe\n",
    "1. Schreiben Sie einen Code, welcher solange Zeichenketten einließt, bis \"ende\" eingegben wird. Die eingegebenen Zeichenketten sollen in einer ArrayList gespeichert, und am Ende ausgegeben werden."
   ]
  },
  {
   "cell_type": "code",
   "execution_count": null,
   "metadata": {},
   "outputs": [],
   "source": []
  },
  {
   "cell_type": "code",
   "execution_count": null,
   "metadata": {},
   "outputs": [],
   "source": []
  },
  {
   "cell_type": "markdown",
   "metadata": {},
   "source": [
    "2. Schreibe einen Code, welcher solange Zahlen einließt, bis die Zahl 99 eingegeben wird."
   ]
  },
  {
   "cell_type": "code",
   "execution_count": null,
   "metadata": {},
   "outputs": [],
   "source": [
    "ArrayList<Integer> zahlen=new ArrayList<>();"
   ]
  },
  {
   "cell_type": "code",
   "execution_count": null,
   "metadata": {},
   "outputs": [],
   "source": []
  }
 ],
 "metadata": {
  "kernelspec": {
   "display_name": "Java",
   "language": "java",
   "name": "java"
  },
  "language_info": {
   "codemirror_mode": "text/x-java",
   "file_extension": ".java",
   "mimetype": "",
   "name": "Java",
   "nbconverter_exporter": "",
   "version": "1.8.0_25"
  }
 },
 "nbformat": 4,
 "nbformat_minor": 5
}
