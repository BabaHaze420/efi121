{
 "cells": [
  {
   "cell_type": "code",
   "execution_count": 1,
   "id": "17a54606-302c-4759-b524-6322070f99b4",
   "metadata": {},
   "outputs": [
    {
     "name": "stdout",
     "output_type": "stream",
     "text": [
      "Bitte Raius eingeben\n"
     ]
    },
    {
     "name": "stdin",
     "output_type": "stream",
     "text": [
      " 4\n"
     ]
    },
    {
     "ename": "CompilationException",
     "evalue": "",
     "output_type": "error",
     "traceback": [
      "\u001b[1m\u001b[30m|   \u001b[1m\u001b[30mfloat flaeche=\u001b[0m\u001b[1m\u001b[30m\u001b[41mradius*radius*PI\u001b[0m\u001b[1m\u001b[30m;\u001b[0m",
      "\u001b[1m\u001b[31mincompatible types: possible lossy conversion from double to float\u001b[0m",
      ""
     ]
    }
   ],
   "source": [
    "Scanner scan=new Scanner(System.in);\n",
    "System.out.println(\"Bitte Raius eingeben\");\n",
    "int radius=scan.nextInt();\n",
    "final double PI=3.14159265359;\n",
    "float flaeche=radius*radius*PI;\n",
    "System.out.println(\"Kreisfläche beträgt: \"+flaeche+\" Quadratmeter\");"
   ]
  },
  {
   "cell_type": "markdown",
   "id": "990bf95f-c593-4a94-9d97-5781c67e11ae",
   "metadata": {},
   "source": [
    "# Typcasting\n",
    "Typcasting beschreibt das umwandeln eines Werts in einen anderen Datentyp. Es werden zwei Arten von Umwandlungen unterschieden.\n",
    "## 1. Implizieres casten\n",
    "Auf deutsch \"von klein nach groß\":\n",
    "\n",
    "Beispiel"
   ]
  },
  {
   "cell_type": "code",
   "execution_count": null,
   "id": "90a24128-fc10-445e-840a-81034d3601ac",
   "metadata": {},
   "outputs": [],
   "source": [
    "int small=20;\n",
    "double big=small;"
   ]
  },
  {
   "cell_type": "markdown",
   "id": "385ac372-7a91-4de5-b9ca-c167e5319cbe",
   "metadata": {},
   "source": [
    "## Explizietes casten\n",
    "Von groß nach klein"
   ]
  },
  {
   "cell_type": "code",
   "execution_count": null,
   "id": "8c3a8175-aa3c-4bc3-bf18-0ffc4f3c85f6",
   "metadata": {},
   "outputs": [],
   "source": [
    "long big= 9999;\n",
    "int small = (int)big;"
   ]
  },
  {
   "cell_type": "markdown",
   "id": "9c5762e3-675d-48a4-b3f3-75a7240a1d2f",
   "metadata": {},
   "source": [
    "### Zusammenfassung\n",
    "![Bild](https://edu.elektronikschule.de/~rauschmaier/Bilder/typcast.PNG)"
   ]
  },
  {
   "cell_type": "markdown",
   "id": "dc587806-5cf7-4ac4-aaed-a67d5c157292",
   "metadata": {},
   "source": [
    "**Aufgabe 1:**  \n",
    "Verwende einen Typcast-Operator um nachfolgenden Zahlen in einer Variable vom Datentyp Charakter zu speichern.\n",
    "Lass dir die Variable am Bildschirm ausgeben und vergleiche das Ergebnis mit der ASCII Tabelle.\n",
    "- 87\n",
    "- 64\n",
    "- 0x57\n"
   ]
  },
  {
   "cell_type": "code",
   "execution_count": null,
   "id": "f7ec3f48-1a45-41a5-baa8-997f4748f5e0",
   "metadata": {},
   "outputs": [],
   "source": []
  },
  {
   "cell_type": "markdown",
   "id": "708b0852-6f85-4ef9-85ce-e91c0ec81004",
   "metadata": {},
   "source": [
    "**Aufgabe 2:**  \n",
    "Schreibe einen Code, welcher zu einem gegebenen Zeichen die entsprechende Stelle in der ASCII-Tabelle liefert."
   ]
  },
  {
   "cell_type": "code",
   "execution_count": null,
   "id": "56ed722f-6a7f-40a7-9163-0462a7db676c",
   "metadata": {},
   "outputs": [],
   "source": []
  },
  {
   "cell_type": "markdown",
   "id": "41d7158d-834a-40ef-aac2-cc0b13c95507",
   "metadata": {},
   "source": [
    "**Aufgabe 3:**  \n",
    "Speichere den Wert von PI (3.1415926535897932384626433832795)\n",
    "in verschiedenen Datentypen (int, float, double) mit so vielen Nachkommstellen wie möglich.\n",
    "Nutze hierzu eine Typumwandlung"
   ]
  },
  {
   "cell_type": "code",
   "execution_count": null,
   "id": "2270a038-924c-4ccd-bdad-35b10b409684",
   "metadata": {},
   "outputs": [],
   "source": []
  },
  {
   "cell_type": "markdown",
   "id": "eae1a58e-f91d-4006-a3b6-ea26e77856be",
   "metadata": {},
   "source": [
    "**Aufgabe 4:**  \n",
    "Nutze Das Typecasting um PI auf zwei Nachkommazahlen zu beschränken"
   ]
  },
  {
   "cell_type": "code",
   "execution_count": null,
   "id": "4ebb951e-a11f-4780-bcc5-feb11bf13c34",
   "metadata": {},
   "outputs": [],
   "source": []
  },
  {
   "cell_type": "code",
   "execution_count": null,
   "id": "72632bf8-caec-4fdf-8d01-a3a9d55728e8",
   "metadata": {},
   "outputs": [],
   "source": []
  }
 ],
 "metadata": {
  "kernelspec": {
   "display_name": "Java",
   "language": "java",
   "name": "java"
  },
  "language_info": {
   "codemirror_mode": "java",
   "file_extension": ".jshell",
   "mimetype": "text/x-java-source",
   "name": "Java",
   "pygments_lexer": "java",
   "version": "11.0.17+8-post-Ubuntu-1ubuntu220.04"
  }
 },
 "nbformat": 4,
 "nbformat_minor": 5
}
