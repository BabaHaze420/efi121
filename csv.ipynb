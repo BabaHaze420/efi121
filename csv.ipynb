{
 "cells": [
  {
   "cell_type": "markdown",
   "metadata": {},
   "source": [
    "# Vokabel-App\n",
    "Sehr geehrte Firma ITSolutions GmBh,  \n",
    "ich habe mir die mich für relevanten englischen Vokabeln gespeichert, und würde mir nun ein Programm wünschen, welches mir dabei hilft die Vokabeln zu lernen. Können Sie eine Anwendung für mich entwickeln?"
   ]
  },
  {
   "cell_type": "code",
   "execution_count": null,
   "metadata": {},
   "outputs": [],
   "source": []
  },
  {
   "cell_type": "markdown",
   "metadata": {},
   "source": [
    "Die Daten der CSV Datei haben volgenden Aufbau:\n",
    "deutsche,englisch\n",
    "deutsch,englisch\n",
    "\n",
    "### Wichtige Code-Teile"
   ]
  },
  {
   "cell_type": "code",
   "execution_count": 12,
   "metadata": {},
   "outputs": [
    {
     "name": "stdout",
     "output_type": "stream",
     "text": [
      "Der Satz besteht aus 5 Wörtern\n",
      "Das\n",
      "ist\n",
      "ein\n",
      "langer\n",
      "Text\n"
     ]
    },
    {
     "data": {
      "text/plain": [
       "null"
      ]
     },
     "execution_count": 12,
     "metadata": {},
     "output_type": "execute_result"
    }
   ],
   "source": [
    "// String.split() Methode\n",
    "// Aufteilen eines Strings \n",
    "// Liefert ein String-Array!\n",
    "String satz=\"Das ist ein langer Text\";\n",
    "String[] woerter=satz.split(\" \");\n",
    "System.out.println(\"Der Satz besteht aus \"+woerter.length+\" Wörtern\");\n",
    "for(String i:woerter) System.out.println(i);"
   ]
  },
  {
   "cell_type": "code",
   "execution_count": 13,
   "metadata": {},
   "outputs": [
    {
     "ename": "illegal start of expression",
     "evalue": "illegal start of expression",
     "output_type": "error",
     "text": "illegal start of expression\n public static void einlesen() \n ^                              \n\nillegal start of expression\n public static void einlesen() throws Except\n        ^     ^                               \n\n';' expected\n public static void einlesen() throws Except\n              ^                              \n\n';' expected\n public static void einlesen() throws Exception{\n                              ^                  \n\nnot a statement\n static void einlesen() throws Exception{\n                               ^        ^  \n\n';' expected\noid einlesen() throws Exception{\n                               ^ \n\n",
     "traceback": [
      "\u001b[1;31millegal start of expression\u001b[0;0m",
      "\u001b[1;31m public static void einlesen() \u001b[0;0m",
      "\u001b[1;31m ^                              \u001b[0;0m",
      "\u001b[1;31m\u001b[0;0m",
      "\u001b[1;31millegal start of expression\u001b[0;0m",
      "\u001b[1;31m public static void einlesen() throws Except\u001b[0;0m",
      "\u001b[1;31m        ^     ^                               \u001b[0;0m",
      "\u001b[1;31m\u001b[0;0m",
      "\u001b[1;31m';' expected\u001b[0;0m",
      "\u001b[1;31m public static void einlesen() throws Except\u001b[0;0m",
      "\u001b[1;31m              ^                              \u001b[0;0m",
      "\u001b[1;31m\u001b[0;0m",
      "\u001b[1;31m';' expected\u001b[0;0m",
      "\u001b[1;31m public static void einlesen() throws Exception{\u001b[0;0m",
      "\u001b[1;31m                              ^                  \u001b[0;0m",
      "\u001b[1;31m\u001b[0;0m",
      "\u001b[1;31mnot a statement\u001b[0;0m",
      "\u001b[1;31m static void einlesen() throws Exception{\u001b[0;0m",
      "\u001b[1;31m                               ^        ^  \u001b[0;0m",
      "\u001b[1;31m\u001b[0;0m",
      "\u001b[1;31m';' expected\u001b[0;0m",
      "\u001b[1;31moid einlesen() throws Exception{\u001b[0;0m",
      "\u001b[1;31m                               ^ \u001b[0;0m"
     ]
    }
   ],
   "source": [
    "// Methode fürs einlesen einer CSV Datei.\n",
    "import java.io.File;\n",
    "import java.util.Scanner;\n",
    "\n",
    "public static void einlesen() throws Exception{\n",
    "    Scanner sc=new Scanner(new File(\"C:\\\\Users\\\\Teaching\\\\Documents\\\\Unterricht\\\\22_23\\\\EFI121\\\\git\\\\test.csv\"));\t\t\n",
    "    // Für Linux und MAC einen einfachen / statt \\\\ verwenden!\n",
    "    while(sc.hasNext())\n",
    "    {\n",
    "        String neueZeile=sc.next();\n",
    "        System.out.println(neueZeile);\n",
    "    } \n",
    "    sc.close();\n",
    "}"
   ]
  },
  {
   "cell_type": "code",
   "execution_count": null,
   "metadata": {},
   "outputs": [],
   "source": []
  }
 ],
 "metadata": {
  "kernelspec": {
   "display_name": "Java",
   "language": "java",
   "name": "java"
  },
  "language_info": {
   "codemirror_mode": "text/x-java",
   "file_extension": ".java",
   "mimetype": "",
   "name": "Java",
   "nbconverter_exporter": "",
   "version": "1.8.0_25"
  }
 },
 "nbformat": 4,
 "nbformat_minor": 4
}
