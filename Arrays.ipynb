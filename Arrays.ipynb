{
 "cells": [
  {
   "cell_type": "markdown",
   "id": "5c4091c4-1ca7-414e-8c18-1ea4a1372738",
   "metadata": {},
   "source": [
    "# Arrays \n",
    "Arrays kommen immer dann zum Einsatz, wenn eine große Anzahl an Daten (Werten)\n",
    "verarbeitet werden müssen. Ein Beispiel dafür wäre ein Programm zur Eingabe und\n",
    "Berechnung von elektronischen Messwerten.\n",
    "Sollte das Programm beispielsweise 100 Messwerte einlesen und verarbeiten, so müssten\n",
    "zunächst 100 Variablen deklariert werden:  \n",
    "double w1, w2, w3, w4, ...  \n",
    "Bei der Verarbeitung und Ausgabe müssten dann alle 100 Werte\n",
    "einzeln über ihre dazugehörigen Variablen angesprochen werden.\n",
    "Würden Sie dann auch noch am Freitag Nachmittag vom Chef damit beauftragt, die Anzahl der\n",
    "Werte auf 5000 zu erhöhen wäre der Feierabend gelaufen.\n",
    "\n",
    "Klar, dass hier eine Art \"Automatisierung\" des Zugriffs auf den Index der Variablen\n",
    "wünschenswert wäre. So könnten beispielweise w1 ... wn in einer Schleife eingelesen werden.\n",
    "Genau diese Eigenschaft bieten Arrays. Sie erlauben dem Programmierer das Speichern\n",
    "mehrerer Werte in einer Variablen, wobei die einzelnen Werte indiziert sind.\n",
    "\n",
    "![array](https://edu.elektronikschule.de/~rauschmaier/Bilder/array.PNG)"
   ]
  },
  {
   "cell_type": "code",
   "execution_count": 2,
   "id": "63e95761-40ff-4b69-9874-135f2637805a",
   "metadata": {},
   "outputs": [
    {
     "name": "stdout",
     "output_type": "stream",
     "text": [
      "Wert: 5\n",
      "Wert: 2\n",
      "Wert: 111\n",
      "Wert: 92\n",
      "Wert: -8\n",
      "Wert: 0\n",
      "Wert: 1\n"
     ]
    }
   ],
   "source": [
    "// Deklaration eines Arrays mit  7 Integer-Werten\n",
    "int [] messArray = new int[7];  //\"Größe des Arrays muss angegeben werden\n",
    "// Werte initialisieren.\n",
    "messArray[0]=5;\n",
    "messArray[1]=2;\n",
    "messArray[2]=111;\n",
    "messArray[3]=92;\n",
    "messArray[4]=-8;\n",
    "messArray[5]=0;\n",
    "messArray[6]=1;\n",
    "// Werte ausgeben\n",
    "System.out.println(\"Wert: \"+messArray[0]);\n",
    "System.out.println(\"Wert: \"+messArray[1]);\n",
    "System.out.println(\"Wert: \"+messArray[2]);\n",
    "System.out.println(\"Wert: \"+messArray[3]);\n",
    "System.out.println(\"Wert: \"+messArray[4]);\n",
    "System.out.println(\"Wert: \"+messArray[5]);\n",
    "System.out.println(\"Wert: \"+messArray[6]);\n"
   ]
  },
  {
   "cell_type": "code",
   "execution_count": 1,
   "id": "d9b7268b-5505-43e1-bc87-78e0a87a5286",
   "metadata": {},
   "outputs": [
    {
     "name": "stdout",
     "output_type": "stream",
     "text": [
      "Wert: 5\n",
      "Wert: 2\n",
      "Wert: 111\n",
      "Wert: 92\n",
      "Wert: -8\n",
      "Wert: 0\n",
      "Wert: 1\n"
     ]
    }
   ],
   "source": [
    "// Deklaration und Initialisierung geht auch in einer Zeile\n",
    "int[] a = { 5, 2, 111, 92, -8, 0, 1 }; // Größe wird anhand der Anzahl an Elementen festgelegt\n",
    "\n",
    "// Arrayshaben den Vorteil, dass diese mit Schleifen verwendet werden können\n",
    "\n",
    "// Ausgabe mit einer for-Schleife\n",
    "for(int i=0;i<7;i++)\n",
    "{\n",
    "    System.out.println(\"Wert: \"+a[i]);\n",
    "}"
   ]
  },
  {
   "cell_type": "markdown",
   "id": "9eafd013-656f-4ef7-b607-1dba7dc8943e",
   "metadata": {},
   "source": [
    "**Aufgabe1**: Übungsblatt \"Übung1\" bearbeiten.  \n",
    "**Aufgabe2**: Die Wassertemperatur eines Bergsees soll über eine Woche aufgezeichnet und ausgewertet werden. \n",
    "1. Lass die sieben Tageswerte mithilfe einer Schleife vom Benutzer eingeben. Gib dabei den Index für die einzelnen Tage aus.\n",
    "2. Berechne mit Hilfe einer Schleife den Mittelwert der Wassertemperatur. Der Mittelwert ergibt sich aus der Summe aller Elemente geteilt durch die Anzahl der Elemente.\n",
    "3. Ermittle die maximale Temperatur.\n",
    "4. Ermittle die minimale Temperatur.\n",
    "5. Realisiere die Ausgabe der eingegebenen Werte. Lass dabei auch die Wochentage anzeigen.\n",
    "6. Erweitern Sie nun Ihr Programm so, dass zusätzlich beim Start des Programms vom Benutzer die Anzahl der zu erfassenden Messwerte eingegeben werden kann."
   ]
  }
 ],
 "metadata": {
  "kernelspec": {
   "display_name": "Java",
   "language": "java",
   "name": "java"
  },
  "language_info": {
   "codemirror_mode": "java",
   "file_extension": ".jshell",
   "mimetype": "text/x-java-source",
   "name": "Java",
   "pygments_lexer": "java",
   "version": "11.0.17+8-post-Ubuntu-1ubuntu220.04"
  }
 },
 "nbformat": 4,
 "nbformat_minor": 5
}
