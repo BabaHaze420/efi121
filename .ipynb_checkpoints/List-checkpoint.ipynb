{
 "cells": [
  {
   "cell_type": "markdown",
   "id": "aedf6ef0-0921-4a18-bdc8-29a0226d4162",
   "metadata": {},
   "source": [
    "# Java Collections Framework- List\n",
    "Arrays können zwar auch Objekte beinhalten, haben aber den Nachteil, dass die Anzahl der Elemente zu Beginn definiert werden muss. Ist die genaue Anzahl nicht bekannt, kann dies zu Problemen führen.  \n",
    "Eine Collection ist in Java ein Objekt, das andere Objekte in einer Sammlungsstruktur verwaltet. Es gibt eine Vielzahl unterschiedlicher Sammlungstypen für ganz unterschiedliche Zwecke. Die Menge dieser Sammlungstypen wird als Collections Framework bezeichnet. Im weiteren wird die \"List\" betrachtet.  \n",
    "Eine Liste ist eine geordnete Objektsammlung, in der Duplikate erlaubt sind. \n"
   ]
  },
  {
   "cell_type": "code",
   "execution_count": null,
   "id": "e207dab8-8fcb-4c01-a781-a22ecda6dfad",
   "metadata": {},
   "outputs": [],
   "source": [
    "// Beispiel. Liste aus String-Objekten\n",
    "ArrayList<String> fruechte = new ArrayList<>();"
   ]
  },
  {
   "cell_type": "markdown",
   "id": "f21a05ac-8359-4142-99e9-9975ec4e43e5",
   "metadata": {},
   "source": [
    "Um mit Listen zu arbeiten, werden Methoden benötigt. Hier die wichtigsten im Überblick:  \n",
    "\n",
    "|   |   |  \n",
    "|---|---|\n",
    "| add(E element)  |Fügt ein neues Element an das Ende der Liste hinzu   | \n",
    "|  get(int index) |  \tLiefert das Element mit dem gewählten Index  | \n",
    "|remove(int index)   | Löscht das Element mit dem gewählten Index  | \n",
    "|set(int index, E element)|Ersetzt ein Element mit einem anderen auf der gewählten Index-Position|\n",
    "|size()|Liefert die Größe der Liste zurück|"
   ]
  },
  {
   "cell_type": "code",
   "execution_count": null,
   "id": "31f05873-5d2f-4cd6-b330-64c607c0c31c",
   "metadata": {},
   "outputs": [],
   "source": [
    "ArrayList<String> fruechte = new ArrayList<>();\n",
    "// Elemente hinzufügen\n",
    "fruechte.add(\"Kiwi\");\n",
    "fruechte.add(\"Apfel\");\n",
    "fruechte.add(\"Traube\");\n",
    "fruechte.add(\"Ananas\");\n",
    "\n",
    "System.out.println(fruechte.get(2)); // liefert Traube\n",
    "fruechte.set(1, \"Birne\"); // Ändert Apfel für Birne\n",
    "System.out.println(fruechte.size()); // liefert 3"
   ]
  },
  {
   "cell_type": "code",
   "execution_count": null,
   "id": "1f75dc97-4970-4e30-a808-5b0234bbe1d5",
   "metadata": {},
   "outputs": [],
   "source": []
  },
  {
   "cell_type": "markdown",
   "id": "085690f5-2b64-4ac1-bf9f-ce921a1b1497",
   "metadata": {},
   "source": [
    "## Verwendung mit Schleife"
   ]
  },
  {
   "cell_type": "code",
   "execution_count": null,
   "id": "ef93bcde-cd8e-44f5-8074-e71d55166a3d",
   "metadata": {},
   "outputs": [],
   "source": [
    "ArrayList<String> fruechte = new ArrayList<>();\n",
    "// Elemente hinzufügen\n",
    "fruechte.add(\"Kiwi\");\n",
    "fruechte.add(\"Apfel\");\n",
    "fruechte.add(\"Traube\");\n",
    "fruechte.add(\"Ananas\");\n",
    "for(int i=0;i<fruechte.size();i++){\n",
    "    System.out.println(fruechte.get(i));\n",
    "}"
   ]
  },
  {
   "cell_type": "code",
   "execution_count": null,
   "id": "456b3b32-d1e1-4edf-965d-b0ec86fb8227",
   "metadata": {},
   "outputs": [],
   "source": [
    "//einfacher mit for-each\n",
    "for(String i : fruechte){\n",
    "    System.out.println(i);\n",
    "}"
   ]
  },
  {
   "cell_type": "markdown",
   "id": "acd6eb28-2ab7-4389-bd85-cf7d0258bef0",
   "metadata": {},
   "source": [
    "## Aufgabe\n",
    "1. Schreiben Sie einen Code, welcher solange Zeichenketten einließt, bis \"ende\" eingegben wird. Die eingegebenen Zeichenketten sollen in einer ArrayList gespeichert, und am Ende ausgegeben werden."
   ]
  },
  {
   "cell_type": "code",
   "execution_count": null,
   "id": "5728484b-ea07-4b61-8b33-23bdfdff5f59",
   "metadata": {},
   "outputs": [],
   "source": []
  },
  {
   "cell_type": "markdown",
   "id": "89765f65-c17b-44d4-bc68-1cf34c4fe96c",
   "metadata": {},
   "source": [
    "2. Schreibe einen Code, welcher solange Zahlen einließt, bis die Zahl 99 eingegeben wird."
   ]
  },
  {
   "cell_type": "code",
   "execution_count": null,
   "id": "f961b0c9-40e5-444e-b1f4-87990ca95d1e",
   "metadata": {},
   "outputs": [],
   "source": []
  },
  {
   "cell_type": "code",
   "execution_count": null,
   "id": "b276f38f-a3b5-427d-8bdd-f5fea15ce4e6",
   "metadata": {},
   "outputs": [],
   "source": []
  },
  {
   "cell_type": "markdown",
   "id": "5f5b952d-0c87-4076-994a-701f2cb24ce0",
   "metadata": {},
   "source": [
    "3. Schreibe Aufgabe 2 so, dass das Programm nicht \"abstürzt\", wenn keine Zahl eingegeben wird."
   ]
  },
  {
   "cell_type": "code",
   "execution_count": null,
   "id": "c506d38a-4cc5-4837-8af6-27a95f6157c0",
   "metadata": {},
   "outputs": [],
   "source": [
    "import java.util.Scanner; \n",
    "Scanner s1=new Scanner(System.in);\n",
    "ArrayList<Integer> liste = new ArrayList<>();\n",
    "while(true){\n",
    "    try{\n",
    "        int tmp=s1.nextInt();\n",
    "        liste.add(tmp);\n",
    "        if(tmp==99){\n",
    "                      break;\n",
    "        }\n",
    "    }\n",
    "    catch(Exception e){\n",
    "        s1.next();\n",
    "        System.out.println(\"Falsche Eingabe\");\n",
    "    }\n",
    "}\n",
    "System.out.println(liste);"
   ]
  },
  {
   "cell_type": "markdown",
   "id": "b2dba4ed-471f-4e02-bc4e-1c68718ccae0",
   "metadata": {},
   "source": [
    "4. Erweitere den Code so, dass es zwei Listen gibt. Wird eine Zahl eingegeben, soll diese in einer Liste für Zahlen eingegeben werden. Wird keine Zahl eingegeben, soll die Eingabe in einer Liste für Zeichenketten gespeichert werden. Mit der eingabe \"ende\" soll die Eingabe beendet werden."
   ]
  },
  {
   "cell_type": "code",
   "execution_count": null,
   "id": "87232fac-b733-463d-a93b-29bc22adb479",
   "metadata": {},
   "outputs": [],
   "source": [
    "ArrayList<String> woerter = new ArrayList<>();\n",
    "ArrayList<Integer> zahlen = new ArrayList<>();\n",
    "Scanner s1=new Scanner(System.in);\n",
    "String eingabe=\" \";\n",
    "while(eingabe.equals(\"ende\")==false) {\n",
    "    eingabe=s1.next();\n",
    "    try{\n",
    "        int zahl=Integer.parseInt(eingabe);\n",
    "        zahlen.add(zahl);\n",
    "    }\n",
    "    catch(Exception e){\n",
    "        woerter.add(eingabe);\n",
    "    }\n",
    "}\n",
    "System.out.println(woerter);\n",
    "System.out.println(zahlen);\n"
   ]
  },
  {
   "cell_type": "markdown",
   "id": "1fb9c5ba-5195-44f5-9070-0f827dafc9bf",
   "metadata": {},
   "source": [
    "## List und eigene Objekte\n",
    "ArrayListen können auf für eigene Objekte verwendet werden. Soll auf bestimmte Attribute einer Klasse zugegriffen werden können, sollte der Zugriff über definierte get und set Methoden erfolgen."
   ]
  },
  {
   "cell_type": "code",
   "execution_count": 1,
   "id": "f9d1bdb5-2839-4f0e-8647-12f1457083d9",
   "metadata": {},
   "outputs": [],
   "source": [
    "public class Auto{\n",
    "    private String model;\n",
    "    private String marke;\n",
    "    private int ps;\n",
    "    public Auto(String model, String marke, int ps){\n",
    "        this.model=model;\n",
    "        this.marke=marke;\n",
    "        this.ps=ps;\n",
    "    }  \n",
    "    public void fahren(){\n",
    "        System.out.println(\"brum brum\");\n",
    "    }\n",
    "    public void angeben(){\n",
    "        System.out.println(\"Ich habe einen \"+marke+\" mit \"+ps+\" PS\");\n",
    "    }\n",
    "}\n",
    "ArrayList<Auto> autoList = new ArrayList<>();\n"
   ]
  },
  {
   "cell_type": "code",
   "execution_count": 2,
   "id": "ea6e60ec-1077-4edb-8212-cefab0e29e10",
   "metadata": {},
   "outputs": [
    {
     "name": "stdout",
     "output_type": "stream",
     "text": [
      "brum brum\n"
     ]
    }
   ],
   "source": [
    "Auto a1=new Auto(\"Civic\",\"Honda\",70);\n",
    "autoList.add(a1);\n",
    "autoList.add(new Auto(\"2\",\"Mazda\",50));\n",
    "autoList.get(0).fahren();\n"
   ]
  },
  {
   "cell_type": "markdown",
   "id": "cc7e84fc-afc5-4a24-aeb6-726e7bc3ca6c",
   "metadata": {},
   "source": [
    "### Aufgaben\n",
    "1. Füge folgendes Auto zur Liste hinzu: VW Caddy 130 PS\n",
    "2. Rufe bei allen Autos die Methode \"angeben\" aus. Nutze eine for-Schleife.\n",
    "3. Rufe bei allen Autos die Methode \"angeben\" aus. Nutze eine for-each-Schleife.\n"
   ]
  },
  {
   "cell_type": "code",
   "execution_count": 3,
   "id": "27d49699-151f-49b7-8e8b-510850e927c4",
   "metadata": {},
   "outputs": [
    {
     "name": "stdout",
     "output_type": "stream",
     "text": [
      "Ich habe einen Honda mit 70 PS\n",
      "Ich habe einen Mazda mit 50 PS\n",
      "Ich habe einen VW mit 130 PS\n"
     ]
    }
   ],
   "source": [
    "Auto neuesAuto=new Auto(\"Caddy\",\"VW\",130);\n",
    "autoList.add(neuesAuto);\n",
    "for(int i=0;i<autoList.size();i++)\n",
    "{\n",
    "    autoList.get(i).angeben();\n",
    "}\n"
   ]
  },
  {
   "cell_type": "code",
   "execution_count": 4,
   "id": "6630073e-2a09-4b9a-b9d1-a5e248f31616",
   "metadata": {},
   "outputs": [
    {
     "name": "stdout",
     "output_type": "stream",
     "text": [
      "Ich habe einen Honda mit 70 PS\n",
      "Ich habe einen Mazda mit 50 PS\n",
      "Ich habe einen VW mit 130 PS\n"
     ]
    }
   ],
   "source": [
    "for(Auto i:autoList){\n",
    "    i.angeben();\n",
    "}"
   ]
  },
  {
   "cell_type": "markdown",
   "id": "d26ae9e5-e39c-4b5d-8a90-b653c26d4868",
   "metadata": {},
   "source": [
    "Schreibe das \"Lernkarten-Programm\" so, dass eine ArrayList verwendet wird."
   ]
  },
  {
   "cell_type": "code",
   "execution_count": null,
   "id": "bc65167f-b243-43a0-9eb0-d13b64e4e478",
   "metadata": {},
   "outputs": [],
   "source": [
    "public class Lernkarte {\n",
    "    private String begriff;\n",
    "    private String erklaerung;\n",
    "    public void abfrage() {\n",
    "        System.out.println(\"Nennen Sie das Deutsche Wort für \"+this.begriff);\n",
    "        Scanner s1=new Scanner(System.in);\n",
    "        String eingabe=s1.next();\n",
    "        if(eingabe.equals(this.erklaerung)) {\n",
    "            System.out.println(\"Das war korrekt\");\n",
    "        }\n",
    "        else {\n",
    "            System.out.println(\"Leider falsch\");\n",
    "            System.out.println(\"Richtig wäre: \"+this.erklaerung);\n",
    "        }\n",
    "    }\n",
    "    public void einlesen() {\n",
    "        System.out.println(\"Bitte englischen Begriff eingeben\");\n",
    "        this.begriff=s1.next();\n",
    "        System.out.println(\"Wie lautet die deutsche Übersetzung?\");\n",
    "        this.erklaerung=s1.next();\n",
    "        System.out.println(\"Begriff wurde der Kartei hinzugefügt\");\n",
    "    }\n",
    "}\n",
    "\n",
    "\n",
    "//Main!!!\n",
    "Scanner s1=new Scanner(System.in);\n",
    "ArrayList<Lernkarte> vokabeln = new ArrayList<>();\n",
    "while(true) {\n",
    "    System.out.println(\"Was möchten Sie tun?\");\n",
    "    System.out.println(\"1: Karte hinzufügen\");\n",
    "    System.out.println(\"2: Abfrage starten\");\n",
    "    System.out.println(\"3: Beenden\");\n",
    "    String eingabe=s1.next();\n",
    "    if(eingabe.charAt(0)=='2') {  // Abfragemodus\n",
    "        for(Lernkarte i:vokabeln){\n",
    "            i.abfrage();\n",
    "        }\n",
    "    }\n",
    "    if(eingabe.charAt(0)=='3') {  //Spiel beenden\n",
    "        break;\n",
    "    }\n",
    "    if(eingabe.charAt(0)=='1') {  // Neue Karte anlegen\n",
    "        vokabeln.add(new Lernkarte());\n",
    "        int tmp=vokabeln.size();\n",
    "        vokabeln.get(tmp-1).einlesen();\n",
    "    }\n",
    "\n",
    "}\n",
    "System.out.println(\"Spiel beendet\");"
   ]
  },
  {
   "cell_type": "code",
   "execution_count": null,
   "id": "71dd864c-0732-4691-a3bc-0c2c032be87a",
   "metadata": {},
   "outputs": [],
   "source": []
  },
  {
   "cell_type": "code",
   "execution_count": 2,
   "id": "8d40c9f2-820f-445e-b326-834ef5d99d91",
   "metadata": {},
   "outputs": [
    {
     "ename": "EvalException",
     "evalue": "Index 1000000 out of bounds for length 999999",
     "output_type": "error",
     "traceback": [
      "\u001b[1m\u001b[31m---------------------------------------------------------------------------\u001b[0m",
      "\u001b[1m\u001b[31mjava.lang.ArrayIndexOutOfBoundsException: Index 1000000 out of bounds for length 999999\u001b[0m",
      "\u001b[1m\u001b[31m\tat .(#14:1)\u001b[0m"
     ]
    }
   ],
   "source": [
    "float [] messdaten=new float[999999];\n",
    "messdaten[1000000]=2;\n"
   ]
  },
  {
   "cell_type": "code",
   "execution_count": null,
   "id": "066c529d-5f74-4505-b851-5d2b9f0173d8",
   "metadata": {},
   "outputs": [],
   "source": []
  }
 ],
 "metadata": {
  "kernelspec": {
   "display_name": "Java",
   "language": "java",
   "name": "java"
  },
  "language_info": {
   "codemirror_mode": "java",
   "file_extension": ".jshell",
   "mimetype": "text/x-java-source",
   "name": "Java",
   "pygments_lexer": "java",
   "version": "11.0.17+8-post-Ubuntu-1ubuntu220.04"
  }
 },
 "nbformat": 4,
 "nbformat_minor": 5
}
