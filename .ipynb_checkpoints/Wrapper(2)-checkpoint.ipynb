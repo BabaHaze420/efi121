{
 "cells": [
  {
   "cell_type": "markdown",
   "id": "049d90cb-23af-44fb-a6aa-f8dcbbd6927b",
   "metadata": {},
   "source": [
    "# Wrapper-Klassen"
   ]
  },
  {
   "cell_type": "code",
   "execution_count": 1,
   "id": "b6146942-3396-4ba7-a191-b195259692df",
   "metadata": {},
   "outputs": [
    {
     "name": "stdout",
     "output_type": "stream",
     "text": [
      "ACHTUNG!\n",
      "========\n",
      "- byte != Byte\n",
      "- short != Short\n",
      "- int != Integer\n",
      "- long != Long\n",
      "- float != Float\n",
      "- double != Double\n",
      "- - - - - - - - - -\n",
      "<byte> 8bit : -128, ..., 127\n",
      "<short> 16bit : -32768, ..., 32767\n",
      "<int> 32bit : -2147483648, ..., 2147483647\n",
      "<long> 64bit : -9223372036854775808, ..., 9223372036854775807\n",
      "<float> 32bit : 1.4E-45, ..., 3.4028235E38\n",
      "<double> 64bit : 4.9E-324, ..., 1.7976931348623157E308\n"
     ]
    }
   ],
   "source": [
    "System.out.println(\"ACHTUNG!\");\n",
    "System.out.println(\"========\");\n",
    "System.out.println(\"- byte != Byte\");\n",
    "System.out.println(\"- short != Short\");\n",
    "System.out.println(\"- int != Integer\");\n",
    "System.out.println(\"- long != Long\");\n",
    "System.out.println(\"- float != Float\");\n",
    "System.out.println(\"- double != Double\");\n",
    "System.out.println(\"- - - - - - - - - -\");\n",
    "System.out.println(\"<byte> 8bit : \" + Byte.MIN_VALUE + \", ..., \" + Byte.MAX_VALUE);\n",
    "System.out.println(\"<short> 16bit : \" + Short.MIN_VALUE + \", ..., \" + Short.MAX_VALUE);\n",
    "System.out.println(\"<int> 32bit : \" + Integer.MIN_VALUE + \", ..., \" + Integer.MAX_VALUE);\n",
    "System.out.println(\"<long> 64bit : \" + Long.MIN_VALUE + \", ..., \" + Long.MAX_VALUE);\n",
    "System.out.println(\"<float> 32bit : \" + Float.MIN_VALUE + \", ..., \" + Float.MAX_VALUE);\n",
    "System.out.println(\"<double> 64bit : \" + Double.MIN_VALUE + \", ..., \" + Double.MAX_VALUE);"
   ]
  },
  {
   "cell_type": "markdown",
   "id": "2bd4188e-d49e-43cb-8244-085e4e948da3",
   "metadata": {},
   "source": [
    "In der Java Standardbibliothek gibt es zu jedem primitiven Datentyp eine korrespondierende Klasse. Diese Klassen werden Wrapper-Klassen genannt. Übersetzt bedeutet das Wort wrapper soviel wie \"Verpackung\" oder \"Hülle\", womit der Charakter dieser Klassen bereits angedeutet ist: "
   ]
  },
  {
   "cell_type": "markdown",
   "id": "7efb8e5d-7ea3-487c-be56-f55956818b30",
   "metadata": {},
   "source": [
    "## Umwandeln\n",
    "Mithilfe von Wrapperklassen können primitive Datentypen in komplexe und komplexe in primitive gewandelt werden.\n",
    "    "
   ]
  },
  {
   "cell_type": "code",
   "execution_count": 2,
   "id": "76e0eb97-9c35-4585-a5da-f1830aba3269",
   "metadata": {},
   "outputs": [
    {
     "name": "stdout",
     "output_type": "stream",
     "text": [
      "Das ist alles eine Zeichenkette: 20\n"
     ]
    }
   ],
   "source": [
    "// Integer to String\n",
    "int zahl=20;\n",
    "Integer intWrapper=20;\n",
    "String wrapper=intWrapper.toString();\n",
    "System.out.println(\"Das ist alles eine Zeichenkette: \"+wrapper);"
   ]
  },
  {
   "cell_type": "code",
   "execution_count": 2,
   "id": "83476ebb-7a31-46b1-9038-e16fd3b4525c",
   "metadata": {},
   "outputs": [
    {
     "name": "stdout",
     "output_type": "stream",
     "text": [
      "Das ist eine Zahl: 56\n"
     ]
    }
   ],
   "source": [
    "//String to Integer\n",
    "String s1=\"56\";\n",
    "try{\n",
    "    int zahl=Integer.parseInt(s1); //\n",
    "    \n",
    "    System.out.println(\"Das ist eine Zahl: \"+zahl);\n",
    "    \n",
    "}\n",
    "catch(Exception e){\n",
    "    System.out.println(\"Fehler\");\n",
    "}\n"
   ]
  },
  {
   "cell_type": "markdown",
   "id": "ee02e8bf-44d8-4bd2-9324-953b28f85297",
   "metadata": {},
   "source": [
    "# Autoboxing\n",
    "Neuere Java-Versionen machen das Arbeiten mit Wrapperklassen einfacher."
   ]
  },
  {
   "cell_type": "code",
   "execution_count": 19,
   "id": "715e0466-117d-4110-b1c8-47ea5392a655",
   "metadata": {},
   "outputs": [],
   "source": [
    "// alt\n",
    "Integer i1=new Integer(10);\n",
    "//neu\n",
    "Integer i2=10;"
   ]
  },
  {
   "cell_type": "markdown",
   "id": "53e9628a-2c56-4a3d-a699-c2f5ac36fc39",
   "metadata": {},
   "source": [
    "## Unboxing\n",
    "Auch das entpacken ist nun einfacher."
   ]
  },
  {
   "cell_type": "code",
   "execution_count": 15,
   "id": "00319994-c4fc-444a-bf27-035d61e4bbd8",
   "metadata": {},
   "outputs": [
    {
     "name": "stdout",
     "output_type": "stream",
     "text": [
      "30\n",
      "30\n"
     ]
    }
   ],
   "source": [
    "//alt\n",
    "Integer i1=new Integer(10);\n",
    "System.out.println(20+i1.intValue());\n",
    "// neu\n",
    "System.out.println(20+i1);"
   ]
  },
  {
   "cell_type": "code",
   "execution_count": null,
   "id": "6d8aa480-db48-4e7c-bd7b-961c75a32c18",
   "metadata": {},
   "outputs": [],
   "source": []
  }
 ],
 "metadata": {
  "kernelspec": {
   "display_name": "Java",
   "language": "java",
   "name": "java"
  },
  "language_info": {
   "codemirror_mode": "java",
   "file_extension": ".jshell",
   "mimetype": "text/x-java-source",
   "name": "Java",
   "pygments_lexer": "java",
   "version": "11.0.15+10-Ubuntu-0ubuntu0.20.04.1"
  }
 },
 "nbformat": 4,
 "nbformat_minor": 5
}
