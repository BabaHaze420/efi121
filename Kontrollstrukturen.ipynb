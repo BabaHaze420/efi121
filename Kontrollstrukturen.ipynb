{
 "cells": [
  {
   "cell_type": "markdown",
   "id": "69a45949-ba83-488c-b5b0-ce84f5755130",
   "metadata": {},
   "source": [
    "### Verzweigungen"
   ]
  },
  {
   "cell_type": "code",
   "execution_count": null,
   "id": "887c044e-e283-4d87-8069-cd79b1862f27",
   "metadata": {},
   "outputs": [],
   "source": [
    "int a=3;\n",
    "int b=30;\n",
    "if(a>b){\n",
    "    System.out.println(\"a ist größer als b\");\n",
    "}\n",
    "else{\n",
    "    System.out.println(\"Bedingung nicht erfüllt\");\n",
    "}\n",
    "System.out.println(\"jetzt gehts weiter\");"
   ]
  },
  {
   "cell_type": "markdown",
   "id": "7376a549-94a8-43e0-9749-5296a2d042f3",
   "metadata": {},
   "source": [
    "### for- Schleife"
   ]
  },
  {
   "cell_type": "code",
   "execution_count": null,
   "id": "86b48cdf-6f1e-44fa-83ab-0e6b2bb3c30d",
   "metadata": {},
   "outputs": [],
   "source": [
    "for(int i=2;i<10;i++){\n",
    "    System.out.println(i);\n",
    "}"
   ]
  },
  {
   "cell_type": "markdown",
   "id": "a8e296b9-cca0-4fc7-a010-1720b1ff21e1",
   "metadata": {},
   "source": [
    "### while- Schleife"
   ]
  },
  {
   "cell_type": "code",
   "execution_count": null,
   "id": "9015ddd3-f535-4020-96d0-1f0e377c3442",
   "metadata": {},
   "outputs": [],
   "source": [
    "int i=11;\n",
    "while(i<10){\n",
    "    System.out.println(i);\n",
    "    i++;\n",
    "}"
   ]
  },
  {
   "cell_type": "markdown",
   "id": "2c6ac507-4dd7-4f62-a0bf-7c1e708e757e",
   "metadata": {},
   "source": [
    "### dowhile- Schleife"
   ]
  },
  {
   "cell_type": "code",
   "execution_count": null,
   "id": "7894a6f3-6be0-4163-9720-7fc3c8d71c2b",
   "metadata": {},
   "outputs": [],
   "source": [
    "int i=100;\n",
    "do{\n",
    "    i++;\n",
    "    System.out.println(i);\n",
    "}while (i<10);"
   ]
  },
  {
   "cell_type": "markdown",
   "id": "9a19b53c-f15c-4ff2-953c-1016790816d0",
   "metadata": {},
   "source": [
    "**Aufgabe 1:** 3. Realisiere folgende Bildschirmausgabe mit einer for-Schleife!  \n",
    "6  \n",
    "\n",
    "8  \n",
    "\n",
    "10\n",
    "\n",
    "12"
   ]
  },
  {
   "cell_type": "code",
   "execution_count": null,
   "id": "afa58a77-0b47-4767-a696-5a3ac4e28093",
   "metadata": {},
   "outputs": [],
   "source": []
  },
  {
   "cell_type": "markdown",
   "id": "643a5baa-c6a2-484c-b6b6-df0b49797574",
   "metadata": {},
   "source": [
    "**Aufgabe 2:** Schreiben Sie ein Programm, das den Betrag des Taschengelds in Abhängigkeit vom Alter ausgibt. Das Taschengeld wird vom 6. bis zum 21. Lebensjahr ausgezahlt. Dabei sind der Anfangsbetrag und die jährliche Erhöhung vom Benutzer einzugeben.\n",
    "Beispielausgabe:\n",
    "\n",
    "![Ausgabe](https://raw.githubusercontent.com/sttoraus/Teaching-/master/for1.JPG)"
   ]
  },
  {
   "cell_type": "code",
   "execution_count": null,
   "id": "2bddaeb8-b4ac-4f56-a710-5ac9767bc306",
   "metadata": {},
   "outputs": [],
   "source": []
  },
  {
   "cell_type": "markdown",
   "id": "438daf4f-9058-42e4-9d0a-5e1421b0a040",
   "metadata": {},
   "source": [
    "**Aufgabe3:** Der Fischbestand eines Teichs beträgt zu Beginn eines Jahres drei Fische. Jedes Jahr verdoppelt sich der Fischbestand. \n",
    "Erstellen Sie ein Programm, das die Dauer in Jahren ermittelt, bis ein bestimmter, vom Anwender einzugebender Fischbestand erreicht bzw. überschritten wird."
   ]
  },
  {
   "cell_type": "code",
   "execution_count": null,
   "id": "b98b6e3c-73d6-4a4d-a24c-cfa9c8258673",
   "metadata": {},
   "outputs": [],
   "source": []
  },
  {
   "cell_type": "markdown",
   "id": "0995e3eb-7d8d-4388-ad7a-d346934ea340",
   "metadata": {},
   "source": [
    "**Aufgabe4:** Erweitere folgenden Code so, dass der Benutzer solange eine Eingabe betätigen muss, bis die eingegebene Zahl kleiner als 10 ist."
   ]
  },
  {
   "cell_type": "code",
   "execution_count": null,
   "id": "ae51720a-3711-43c4-bd6b-1e808691c889",
   "metadata": {},
   "outputs": [],
   "source": [
    "Scanner scan=new Scanner(System.in);\n",
    "int zahl=scan.nextInt();\n",
    "System.out.println(\"Sie haben die Zahl \"+zahl+\" eingegeben\");"
   ]
  },
  {
   "cell_type": "markdown",
   "id": "e0651576-b45b-4027-8ad1-5cbb7159a49f",
   "metadata": {},
   "source": [
    "**Aufgabe 5:** In diesem Projekt soll überprüft werden, welchen Zielwert eine Finanzanlage, die zu einem bestimmten Zinssatz für eine bestimme Anlagedauer (in Jahren) durch Zinseszins-Vermehrung erreicht. Für jedes Jahr, die die Finanzanlage läuft, soll der Wert am Ende des Jahres ausgegeben werden. Dabei sind der Zinssatz, die Dauer und das Kapital vom Benutzer einzugeben. Beispielausgabe:  \n",
    "![Ausgabe](https://raw.githubusercontent.com/sttoraus/Teaching-/master/for2.JPG)"
   ]
  },
  {
   "cell_type": "code",
   "execution_count": null,
   "id": "b1319969-cfdb-47ff-92e6-3aca8a8ac783",
   "metadata": {},
   "outputs": [],
   "source": []
  },
  {
   "cell_type": "markdown",
   "id": "41190ef3-a5b1-493c-8ca3-8e7eaa78759c",
   "metadata": {},
   "source": [
    "**Zusatzaufgabe**: Realisiere einen Code, der eine int Zahl einließt und diese als Binärzahl am Bildschirm ausgibt."
   ]
  }
 ],
 "metadata": {
  "kernelspec": {
   "display_name": "Java",
   "language": "java",
   "name": "java"
  },
  "language_info": {
   "codemirror_mode": "java",
   "file_extension": ".jshell",
   "mimetype": "text/x-java-source",
   "name": "Java",
   "pygments_lexer": "java",
   "version": "11.0.17+8-post-Ubuntu-1ubuntu220.04"
  }
 },
 "nbformat": 4,
 "nbformat_minor": 5
}
