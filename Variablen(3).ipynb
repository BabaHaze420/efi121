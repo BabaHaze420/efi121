{
 "cells": [
  {
   "cell_type": "markdown",
   "id": "7cdd74fd-154d-4e80-9b71-75c1eb6bcfb9",
   "metadata": {},
   "source": [
    "# Variablen\n",
    "Bevor Variablen benutzt werden, müssen diese deklariert werden. Bei der Deklaration muss ein Datentyp für die Variable gewählt werden. Der Datentyp muss passen für den zu erwartenden Inhalt der Variable gewählt werden. folgende Datentypen stehen zur Verfügung.\n",
    "![Bild](https://mlpzxb5ecggk.i.optimole.com/w:1000/h:368/q:mauto/https://programmieren-starten.de/wp-content/uploads/2019/09/java-datentypen-1.png)"
   ]
  },
  {
   "cell_type": "markdown",
   "id": "f545a1fb-a6cf-4a6a-a62e-dc475ae914ed",
   "metadata": {},
   "source": [
    "## Variablenamen\n",
    "- Sollten aussagekräftig sein\n",
    "- Mit einem kleinen Bachstaben beginnen\n",
    "- Camelcase Schreibweise verwenden"
   ]
  },
  {
   "cell_type": "markdown",
   "id": "d97f86ea-4a31-4c71-849f-f6bc13e7abc9",
   "metadata": {},
   "source": [
    "### Literale\n",
    "Bei dem speichern von Werten in Variablen müssen einige Regel befolgt werden:\n",
    "![Bild](https://edu.elektronikschule.de/~rauschmaier/Bilder/literale.PNG)"
   ]
  },
  {
   "cell_type": "code",
   "execution_count": 1,
   "id": "a76018f3-741e-4285-b67c-212a3fde6a06",
   "metadata": {},
   "outputs": [],
   "source": [
    "// geht\n",
    "double zahl1=3.1453456;"
   ]
  },
  {
   "cell_type": "code",
   "execution_count": 1,
   "id": "52f75e88-d27e-4578-a113-f9d79be748c7",
   "metadata": {},
   "outputs": [
    {
     "ename": "CompilationException",
     "evalue": "",
     "output_type": "error",
     "traceback": [
      "\u001b[1m\u001b[30m|   \u001b[1m\u001b[30mfloat zahl1=\u001b[0m\u001b[1m\u001b[30m\u001b[41m3.1453456\u001b[0m\u001b[1m\u001b[30m;\u001b[0m",
      "\u001b[1m\u001b[31mincompatible types: possible lossy conversion from double to float\u001b[0m",
      ""
     ]
    }
   ],
   "source": [
    "// geht nicht\n",
    "float zahl1=3.1453456;"
   ]
  },
  {
   "cell_type": "code",
   "execution_count": 2,
   "id": "ed6e2f9f-a58c-47f8-8be8-b6aed795478f",
   "metadata": {},
   "outputs": [],
   "source": [
    "// Literale beachten!\n",
    "float zahl1=3.145345f;"
   ]
  },
  {
   "cell_type": "markdown",
   "id": "55b1d617-76ee-40ba-a27f-c3dac939e583",
   "metadata": {},
   "source": [
    "**Aufgabe 1:**\n",
    "Speicher folgende Werte in einer Variable mit passendem Datentyp (Keine  Resourcen \"Verschwendung\"):\n",
    "- 255\n",
    "- 33000\n",
    "- 4444444446\n",
    "- z\n",
    "- 2,8\n",
    "- 3,141592653589793 "
   ]
  },
  {
   "cell_type": "code",
   "execution_count": 6,
   "id": "369ef8ce-a31d-4d25-8e48-c706c60f0c0c",
   "metadata": {},
   "outputs": [],
   "source": [
    "long z=4444444446L;"
   ]
  },
  {
   "cell_type": "markdown",
   "id": "84d53946-5fa6-4ee0-a719-67dd240d3ece",
   "metadata": {},
   "source": [
    "# Bildschirmausgabe\n",
    "Eine Bildschirmausgabe kann z.B. mit der Funktion \"System.out.println(Inhalt) erfolgen. Nach dem Inhalt wird eine neue Zeile gennerriert."
   ]
  },
  {
   "cell_type": "code",
   "execution_count": 20,
   "id": "8242a5ec-cd93-454a-a0ab-3f5bcb338687",
   "metadata": {},
   "outputs": [
    {
     "name": "stdout",
     "output_type": "stream",
     "text": [
      "Hallo Welt\n"
     ]
    }
   ],
   "source": [
    "// Beispiel\n",
    "System.out.println(\"Hallo Welt\");"
   ]
  },
  {
   "cell_type": "code",
   "execution_count": 21,
   "id": "a8fd902b-d018-49cd-8b7d-0f08db997a7d",
   "metadata": {},
   "outputs": [
    {
     "name": "stdout",
     "output_type": "stream",
     "text": [
      "640000\n"
     ]
    }
   ],
   "source": [
    "// Auch der Inhalt von Variablen kann ausgegeben werden\n",
    "int ganzzahl=640000;\n",
    "System.out.println(ganzzahl);"
   ]
  },
  {
   "cell_type": "code",
   "execution_count": 22,
   "id": "8f026522-a09e-42ae-b40c-d5403ba983da",
   "metadata": {},
   "outputs": [
    {
     "name": "stdout",
     "output_type": "stream",
     "text": [
      "Die Variable Ganzzahl hat den Wert 640000\n"
     ]
    }
   ],
   "source": [
    "// Variablen und Text können gemeinsam erfolgen\n",
    "System.out.println(\"Die Variable Ganzzahl hat den Wert \"+ganzzahl);"
   ]
  },
  {
   "cell_type": "markdown",
   "id": "18f088cd-2b08-48b1-bed2-4d5b4aa99eb4",
   "metadata": {},
   "source": [
    "**Aufgabe 2:**\n",
    "Folgende Werte sind gegeben:"
   ]
  },
  {
   "cell_type": "markdown",
   "id": "738a965e-ba3b-4921-bf1d-78a31f76c0f2",
   "metadata": {},
   "source": [
    "- Preis Auto: 3500\n",
    "- Alter: 18\n",
    "- Vorname: Peter\n",
    "- Nachname: Müller\n",
    "- KFZ Anmeldegebühr: 92.5\n",
    "1. Überlege Dir welchen Datentyp diese Informationen repräsentieren\n",
    "2. Lege Variablen fest und speichere diese Werte in den Variablen ab\n",
    "3. Erzeuge folgende Bildschirmausgabe: Herr Vorname Nachname ist Alter Jahre alt. Sein Auto kostet Preis €  \n",
    "4. Der Preis soll zuzüglich der Anmeldegebühr ausgegeben werden  \n",
    "5. Der Preis soll ohne Komma ausgegeben werden"
   ]
  },
  {
   "cell_type": "code",
   "execution_count": 24,
   "id": "dc749df0-0c45-4f2a-937a-e2bdabee0214",
   "metadata": {},
   "outputs": [],
   "source": [
    "// Hinweis: Zeichenketten können wie folgt in einer Variable vom Typ String gespeichert werden\n",
    "String meinText=\"Hallo Welt\";"
   ]
  },
  {
   "cell_type": "markdown",
   "id": "a1e80665-2eaf-4593-8a74-641dcd47992c",
   "metadata": {},
   "source": [
    "# Bildschirmeingabe"
   ]
  },
  {
   "cell_type": "code",
   "execution_count": 9,
   "id": "44505373-e64d-4e98-a4b7-df4c3dffe93c",
   "metadata": {},
   "outputs": [
    {
     "name": "stdin",
     "output_type": "stream",
     "text": [
      " 5\n"
     ]
    },
    {
     "name": "stdout",
     "output_type": "stream",
     "text": [
      "Sie haben die Zahl 5 eingegeben\n"
     ]
    }
   ],
   "source": [
    "Scanner einlesen=new Scanner(System.in);  // Anlegen eines Scanners mit dem Namen \"einlesen\"\n",
    "int eingabeZahl=einlesen.nextInt(); // der angelegt Scanner wird verwendet um einen Int Wert einzulesen\n",
    "System.out.println(\"Sie haben die Zahl \"+eingabeZahl+ \" eingegeben\");"
   ]
  },
  {
   "cell_type": "markdown",
   "id": "b8ddc09f-e8f2-4d2b-9c1a-e5e99bf2c688",
   "metadata": {},
   "source": [
    "**Wichtig:** Der Scanner muss zuerst mit einem Namen angelegt werden.  \n",
    "Wird der angelegt Scanner verwendet, muss ausgewählt werden, welcher Datentyp eingelesen werden soll.\n",
    "- einlesen.nextInt() für int\n",
    "- einlesen.nextChar() für char\n",
    "- einlesen.next() für String"
   ]
  },
  {
   "cell_type": "markdown",
   "id": "a2f30c2c-0cf5-4816-b3a4-aa20252ea8e0",
   "metadata": {},
   "source": [
    "**Aufgabe 3:**\n",
    "Erweitere Aufgabe 2 so, dass die 5 Werte vom Benutzer eingegeben werden und anschließen die entsprechende Ausgabe erfolgt."
   ]
  },
  {
   "cell_type": "code",
   "execution_count": null,
   "id": "cf55833f-ab36-415f-860d-3215fcc19cc4",
   "metadata": {},
   "outputs": [],
   "source": []
  },
  {
   "cell_type": "markdown",
   "id": "948a478a-9eab-4bfa-889c-92e09842383c",
   "metadata": {
    "tags": []
   },
   "source": [
    "# Ausführungs-Reihenfolge der Felder\n",
    "Bei Jupyter-Notebooks kommt es auf die Reihenfolge an, in der Codefelder ausgeführt werden.\n",
    "\n",
    "**Aufgabe 4:**\n",
    "Führe zuerst Feld 1 aus; Führe danach Feld 2 aus; Führe nun Feld 1 nochmals aus.  \n",
    "Wie erklärst du dir dieses Verhaten?"
   ]
  },
  {
   "cell_type": "code",
   "execution_count": 5,
   "id": "b65aba71-660c-4873-a52e-950eb06218c4",
   "metadata": {},
   "outputs": [
    {
     "name": "stdout",
     "output_type": "stream",
     "text": [
      "10\n"
     ]
    }
   ],
   "source": [
    "// Feld 1\n",
    "System.out.println(vara);"
   ]
  },
  {
   "cell_type": "code",
   "execution_count": 6,
   "id": "0e860c2c-c6b2-451c-90c6-54ffbb3a33df",
   "metadata": {},
   "outputs": [],
   "source": [
    "// Feld 2\n",
    "int vara=10;"
   ]
  },
  {
   "cell_type": "markdown",
   "id": "b2cdd3d4-286c-473d-9b93-4762ae7ee678",
   "metadata": {},
   "source": [
    "**Zusatzaufgabe:** \n",
    "Schreibe ein Code, welcher eine Ganzzahl einliest und danach als Binärzahl am Bildschirm ausgibt"
   ]
  }
 ],
 "metadata": {
  "kernelspec": {
   "display_name": "Java",
   "language": "java",
   "name": "java"
  },
  "language_info": {
   "codemirror_mode": "java",
   "file_extension": ".jshell",
   "mimetype": "text/x-java-source",
   "name": "Java",
   "pygments_lexer": "java",
   "version": "11.0.17+8-post-Ubuntu-1ubuntu220.04"
  }
 },
 "nbformat": 4,
 "nbformat_minor": 5
}
