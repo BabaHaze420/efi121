{
 "cells": [
  {
   "cell_type": "markdown",
   "metadata": {},
   "source": [
    "# Funktionen\n",
    "![Bild](https://raw.githubusercontent.com/sttoraus/Teaching-/master/funk.png)  \n",
    "In den vorherigen Kapiteln haben wir immer wieder auf Funktionen zurückgegriffen, welche uns von Python zur Verfügung gestellt wurden. Wenn du beispielsweise den Befehl len() eingibst, erhältst du von der Funktion len() die Länge einer Liste oder einer Zeichenkette."
   ]
  },
  {
   "cell_type": "markdown",
   "metadata": {},
   "source": [
    "In diesem Kapitel besprechen wir, wie man selbest solche Funktionen definieren kann. Es gibt verschiedene Gründe, warum es Sinn macht Funktionen zu definieren.\n",
    "\n",
    "    1. Mehrer hintereinander ausgeführte Anweisungen können unter einem Namen zusammengefasst werden. Es kann also als Strukturierungselement angesehen werden, das eine Menge von Anweisungen gruppiert.\n",
    "\n",
    "    2. Ein längeres Programm erhält durch Funktionen eine Struktur, welche helfen kann, den Code besser lesen und verstehen zu können.\n",
    "\n",
    "    3. Ein Funktionsname kann dabei helfen zu verstehen, was das Unterprogramm berechnet oder ausführt.\n",
    "\n",
    "    4. Muss eine Codesequenz mehr als einmal ausgeführt werden, so braucht man nur den Funktionsnamen aufzurufen (Vermeidung von Codeduplizität).\n"
   ]
  },
  {
   "cell_type": "markdown",
   "metadata": {},
   "source": [
    "## Eine Funktion ohne Rückgabewert definieren"
   ]
  },
  {
   "cell_type": "markdown",
   "metadata": {},
   "source": [
    "Mit dem Keyword def führen wir eine neue Funktion ein. Nach der Anweisung def steht der Name der Funktion, gefolgt von runden Klammern (). In der Klammer () werden die Argumente, falls welche verlangt, aufgelistet. Zum Schluss kommt noch der obligate Doppelpunkt :. Die darauffolgende Zeilen müssen wie üblich eingerückt sein, ansonsten gehören sie nicht mehr zur Funktion."
   ]
  },
  {
   "cell_type": "code",
   "execution_count": 2,
   "metadata": {},
   "outputs": [],
   "source": [
    "def hallo():   # Anlegen der Funktion \"Hallo\"\n",
    "    print(\"Hallo, Sie haben die Begrüßung gewählt\")\n",
    "    print(\"Beehren Sie uns bald wieder\")\n",
    "\n"
   ]
  },
  {
   "cell_type": "code",
   "execution_count": 3,
   "metadata": {},
   "outputs": [
    {
     "name": "stdout",
     "output_type": "stream",
     "text": [
      "Hallo, Sie haben die Begrüßung gewählt\n",
      "Beehren Sie uns bald wieder\n"
     ]
    }
   ],
   "source": [
    "hallo() # Erneuter Aufruf der Funktion"
   ]
  },
  {
   "cell_type": "markdown",
   "metadata": {},
   "source": [
    "### Übergabe eins Werts/ einer Variable an eine Funktion"
   ]
  },
  {
   "cell_type": "code",
   "execution_count": 5,
   "metadata": {},
   "outputs": [
    {
     "name": "stdin",
     "output_type": "stream",
     "text": [
      "Bitte Zahl eingeben 2.5\n"
     ]
    },
    {
     "name": "stdout",
     "output_type": "stream",
     "text": [
      "2.5 mal 2.5 ergibt 6.25\n"
     ]
    }
   ],
   "source": [
    "def quadrieren(a):          # anlegen der Funktion mit dem Parameter a\n",
    "    print(a,\"mal\",a,\"ergibt\",a*a)\n",
    "\n",
    "x=float(input(\"Bitte Zahl eingeben\"))\n",
    "quadrieren(x)"
   ]
  },
  {
   "cell_type": "markdown",
   "metadata": {},
   "source": [
    "#### Aufgaben:\n",
    "1. Ändere die Funktion so, dass der eingegebene Name mit ausgegeben wird"
   ]
  },
  {
   "cell_type": "code",
   "execution_count": null,
   "metadata": {},
   "outputs": [],
   "source": [
    "\n"
   ]
  },
  {
   "cell_type": "markdown",
   "metadata": {},
   "source": [
    "## Eine Funktion mit mehreren Parametern\n",
    "Es können auch mehrere Parameter definiert werden. Diese müsen durch ein Komma getrennt werden."
   ]
  },
  {
   "cell_type": "code",
   "execution_count": 6,
   "metadata": {},
   "outputs": [
    {
     "name": "stdout",
     "output_type": "stream",
     "text": [
      "Hallo Karl . Diese Ausgabe erfolgt 6 mal\n",
      "Hallo Karl . Diese Ausgabe erfolgt 6 mal\n",
      "Hallo Karl . Diese Ausgabe erfolgt 6 mal\n",
      "Hallo Karl . Diese Ausgabe erfolgt 6 mal\n",
      "Hallo Karl . Diese Ausgabe erfolgt 6 mal\n",
      "Hallo Karl . Diese Ausgabe erfolgt 6 mal\n"
     ]
    }
   ],
   "source": [
    "def ansage(name,anzahl):\n",
    "    for i in range(anzahl):\n",
    "        print(\"Hallo\",name,\". Diese Ausgabe erfolgt\",anzahl,\"mal\")\n",
    "ansage(\"Karl\",6)"
   ]
  },
  {
   "cell_type": "markdown",
   "metadata": {},
   "source": [
    "2. Erstelle eine Funktion \"multiplizieren\". Es sollen 2 Werte übergeben werden und als Ausgabe soll das Produkt der beiden Zahlen ausgegeben werden. "
   ]
  },
  {
   "cell_type": "code",
   "execution_count": null,
   "metadata": {},
   "outputs": [],
   "source": []
  },
  {
   "cell_type": "markdown",
   "metadata": {},
   "source": [
    "### Eine Funktion mit Rückgabewert definieren\n",
    "Unsere selbst geschriebenen Funktionen von oben haben bisher die Resultate lediglich auf der Konsole ausgegeben. Jedoch kann es sein, dass die Ergebnisse für den weiteren Programmverlauf gebraucht und weiter verarbeitet werden müssen. In solchen Fällen macht es Sinn Funktionen zu definieren, welche ein Ergebnis zurückgeben, wie z.B."
   ]
  },
  {
   "cell_type": "code",
   "execution_count": 7,
   "metadata": {},
   "outputs": [
    {
     "name": "stdin",
     "output_type": "stream",
     "text": [
      "Bitte Zahl eingeben 7\n"
     ]
    },
    {
     "name": "stdout",
     "output_type": "stream",
     "text": [
      "49\n"
     ]
    }
   ],
   "source": [
    "def quadrieren(a):          # anlegen der Funktion mit dem Parameter a\n",
    "     return a*a\n",
    "\n",
    "x=int(input(\"Bitte Zahl eingeben\"))\n",
    "wert=quadrieren(x)\n",
    "print(wert)"
   ]
  },
  {
   "cell_type": "code",
   "execution_count": null,
   "metadata": {},
   "outputs": [],
   "source": []
  },
  {
   "cell_type": "code",
   "execution_count": 21,
   "metadata": {},
   "outputs": [
    {
     "name": "stdout",
     "output_type": "stream",
     "text": [
      "Funktion fertig\n",
      "10\n"
     ]
    }
   ],
   "source": [
    "a=10\n",
    "def test():\n",
    "    print(\"Funktion fertig\")\n",
    "test()\n",
    "print(a)\n"
   ]
  },
  {
   "cell_type": "markdown",
   "metadata": {},
   "source": [
    "#### Aufgabe:\n",
    "Es können auch Listen übergeben werden. Ändere folgenden Code so, dass die Berechnung in einer Funktion erfolgt. Die Variable \"wert\" soll mittels return zurück gegeben werden."
   ]
  },
  {
   "cell_type": "code",
   "execution_count": 48,
   "metadata": {},
   "outputs": [],
   "source": [
    "\n",
    "ist=['Hund','Katze','Hund','Hund','Hund','Hund', 'Katze','Katze','Katze','Hund']\n",
    "soll=['Hund','Katze','Katze','Hund','Hund','Hund', 'Katze','Katze','Katze','Katze']\n",
    "test1=[1,2,3,4,5]\n",
    "test2=[1,2,3,7,6]\n",
    "# folgender Code prüft, zu wieviel Prozent zwei Listen übereinstimmen.\n",
    "def check(a,b):\n",
    "    laenge=len(a)\n",
    "    richtig=0\n",
    "    for i in range(laenge):\n",
    "        if(a[i]==b[i]):\n",
    "            richtig=richtig+1\n",
    "    wert= richtig/laenge*100\n",
    "    print(\"es wurden\",wert,\"Prozent richtig erkannt\")\n",
    "    return wert\n"
   ]
  },
  {
   "cell_type": "code",
   "execution_count": 50,
   "metadata": {},
   "outputs": [
    {
     "name": "stdout",
     "output_type": "stream",
     "text": [
      "es wurden 60.0 Prozent richtig erkannt\n"
     ]
    },
    {
     "data": {
      "text/plain": [
       "60.0"
      ]
     },
     "execution_count": 50,
     "metadata": {},
     "output_type": "execute_result"
    }
   ],
   "source": [
    "check(test1,test2)"
   ]
  },
  {
   "cell_type": "markdown",
   "metadata": {},
   "source": [
    "Sie möchten in den Ferien mit dem Auto in den Urlaub fahren. Schreiben Sie ein Programm, das die Benzinkosten für Ihre Urlaubsfahrt berechnet. \n",
    "Da die Berechnung der gesamten Benzinkosten etwas länger bzw. komplexer ist als die bisherigen Berechnungen, soll diese Berechnung in eine eigene Funktion ausgelagert werden.\n",
    "Folgende Parameter soll diese Funktion erhalten: Benzinpreis, Verbrauch des Autos, Länge der Strecke.\n",
    "Die Benzinkosten sollen am Bildschirm ausgegeben und zusätzlich als Variable zurückgegeben werden."
   ]
  },
  {
   "cell_type": "code",
   "execution_count": 53,
   "metadata": {},
   "outputs": [
    {
     "name": "stdout",
     "output_type": "stream",
     "text": [
      "132.0\n"
     ]
    }
   ],
   "source": [
    "def verbrauch(verbrauch,preis,km):\n",
    "    kosten=round(verbrauch/100*preis*km,2)\n",
    "    return kosten\n",
    "print(verbrauch(6,2.2,1000))"
   ]
  },
  {
   "cell_type": "code",
   "execution_count": null,
   "metadata": {},
   "outputs": [],
   "source": []
  },
  {
   "cell_type": "markdown",
   "metadata": {},
   "source": [
    "Übungsaufgaben:\n",
    "1. Erstelle eine Funktion \"durchschnitt\", welche als Parameter eine Liste erhält. Die Funktion soll den Durchschnitt der Elemente der Liste berechnen und diesen zurück geben.\n",
    "2. Erstelle eine Funktion \"maximum\", welche als Parameter eine Liste erhält. Die Funktion soll den größen Wert innerhalb der Liste bestimmen und diesen zurück geben.\n",
    "2. Erstelle eine Funktion \"minimum\", welche als Parameter eine Liste erhält. Die Funktion soll den kleinsten Wert innerhalb der Liste bestimmen und diesen zurück geben.\n",
    "\n",
    "Wie du die einzelnen Werte bestimmen kannst, kannst du ggf. [hier](https://moodle.elektronikschule.de/pluginfile.php/57357/mod_folder/content/0/14_Listen_L%C3%B6sung.pdf?forcedownload=1) nachlesen (unten auf Seite 4).  \n",
    "Teste deine Funktionen mit den folgenden Listen"
   ]
  },
  {
   "cell_type": "code",
   "execution_count": 74,
   "metadata": {},
   "outputs": [],
   "source": [
    "daten1=[4,6,3,6,3,7,3,7,9,5,9,3,6]\n",
    "daten2=[5,6,9,4,2,4,7,0,2,1,5,7,9]\n",
    "daten3=[2.1,2,2.2,2.4,1.8,1.9,2.2,2.2,1.9]\n",
    "def durchschnitt(a):\n",
    "    summe=sum(a)\n",
    "    for i in a:\n",
    "        summe+=i\n",
    "    return summe/len(a)\n",
    "def maximum(a):\n",
    "    maxi=a[0]\n",
    "    for i in a:\n",
    "        if(i>maxi):\n",
    "            maxi=i\n",
    "    return maxi\n",
    "def minumum(a):\n",
    "    mini=a[0]\n",
    "    for i in a:\n",
    "        if(i<mini):\n",
    "            mini=i\n",
    "    return mini\n",
    "def auswertung(a):\n",
    "    print(\"AVG:\",durchschnitt(a))\n",
    "    print(\"MAX:\",maximum(a))\n",
    "    print(\"MIN:\",minumum(a))"
   ]
  },
  {
   "cell_type": "code",
   "execution_count": 75,
   "metadata": {},
   "outputs": [
    {
     "name": "stdout",
     "output_type": "stream",
     "text": [
      "AVG: 10.923076923076923\n",
      "MAX: 9\n",
      "MIN: 3\n",
      "AVG: 9.384615384615385\n",
      "MAX: 9\n",
      "MIN: 0\n",
      "AVG: 4.155555555555555\n",
      "MAX: 2.4\n",
      "MIN: 1.8\n"
     ]
    }
   ],
   "source": [
    "auswertung(daten1)\n",
    "auswertung(daten2)\n",
    "auswertung(daten3)"
   ]
  },
  {
   "cell_type": "markdown",
   "metadata": {},
   "source": [
    "Quelle: https://pythonbuch.com/funktion.html"
   ]
  },
  {
   "cell_type": "code",
   "execution_count": null,
   "metadata": {},
   "outputs": [],
   "source": []
  },
  {
   "cell_type": "code",
   "execution_count": null,
   "metadata": {},
   "outputs": [],
   "source": []
  },
  {
   "cell_type": "code",
   "execution_count": null,
   "metadata": {},
   "outputs": [],
   "source": []
  },
  {
   "cell_type": "code",
   "execution_count": null,
   "metadata": {},
   "outputs": [],
   "source": []
  },
  {
   "cell_type": "code",
   "execution_count": 25,
   "metadata": {},
   "outputs": [
    {
     "name": "stdout",
     "output_type": "stream",
     "text": [
      "2539460603376\n",
      "Python is fantastic\n",
      "2539460583664\n"
     ]
    }
   ],
   "source": [
    "x = \"awesome\"\n",
    "print(id(x))\n",
    "def myfunc():\n",
    "    global x\n",
    "    x = \"fantastic\"\n",
    "\n",
    "myfunc()\n",
    "\n",
    "print(\"Python is \" + x) \n",
    "print(id(x))"
   ]
  },
  {
   "cell_type": "code",
   "execution_count": 1,
   "metadata": {},
   "outputs": [],
   "source": []
  },
  {
   "cell_type": "code",
   "execution_count": null,
   "metadata": {},
   "outputs": [],
   "source": []
  },
  {
   "cell_type": "code",
   "execution_count": null,
   "metadata": {},
   "outputs": [],
   "source": []
  },
  {
   "cell_type": "code",
   "execution_count": null,
   "metadata": {},
   "outputs": [],
   "source": [
    "\n"
   ]
  },
  {
   "cell_type": "code",
   "execution_count": null,
   "metadata": {},
   "outputs": [],
   "source": []
  },
  {
   "cell_type": "code",
   "execution_count": null,
   "metadata": {},
   "outputs": [],
   "source": []
  },
  {
   "cell_type": "code",
   "execution_count": null,
   "metadata": {},
   "outputs": [],
   "source": []
  }
 ],
 "metadata": {
  "kernelspec": {
   "display_name": "Python 3",
   "language": "python",
   "name": "python3"
  },
  "language_info": {
   "codemirror_mode": {
    "name": "ipython",
    "version": 3
   },
   "file_extension": ".py",
   "mimetype": "text/x-python",
   "name": "python",
   "nbconvert_exporter": "python",
   "pygments_lexer": "ipython3",
   "version": "3.8.3"
  }
 },
 "nbformat": 4,
 "nbformat_minor": 4
}
