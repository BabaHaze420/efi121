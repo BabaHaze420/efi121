{
 "cells": [
  {
   "cell_type": "markdown",
   "id": "dae35bc2-ba74-4ae4-a69b-39659ba84ce7",
   "metadata": {},
   "source": [
    "# Zweidimensionale Arrays\n",
    "Stellen Sie sich vor, Sie wollen das Spiel Schiffeversenken programmieren. Um zu speichern wo sich ein Schiff auf dem Spielfeld befindet, kann ein zweidimensionales Arrays verwendet werden. Das könnte ungefähr so aussehen.\n",
    "![Bild](https://github.com/sttoraus/Teaching-/blob/master/schiffe.png?raw=true)  \n",
    "Auch bei zweidimensionalen Arrays läuft der Zugriff über den Index. Da es nun zwei Dimensionen gibt, gibt es auch zwei Indexe. **Der erste Index steht für die Zeile, der zweite für die Spalte!**"
   ]
  },
  {
   "cell_type": "code",
   "execution_count": null,
   "id": "408ae846-d0f0-4ef8-a46b-59fed9abcc19",
   "metadata": {},
   "outputs": [],
   "source": [
    "// Deklaration eines 2D-Arrays mit 5 Zeilen und 6 Spalten\n",
    "\n",
    "int [][] feld=new int [5][6];"
   ]
  },
  {
   "cell_type": "code",
   "execution_count": null,
   "id": "5baa6d48-eb11-46a5-8fd5-7508cd2dc75b",
   "metadata": {},
   "outputs": [],
   "source": [
    "byte [][]  spielfeld={{0,0,0,1,1,0,0},\n",
    "                    {0,1,0,0,0,1,0},\n",
    "                    {0,1,0,0,0,1,0},\n",
    "                    {0,0,0,0,0,1,0},\n",
    "                    {0,0,0,0,0,0,0},\n",
    "                    {0,1,1,1,1,1,0},\n",
    "                    {0,0,0,0,0,0,0}};\n",
    "Scanner scan=new Scanner(System.in);\n",
    "System.out.println(\"Bitte Zeile eingeben\");\n",
    "int zeile=scan.nextInt();\n",
    "System.out.println(\"Bitte Spalte eingeben\");\n",
    "int spalte=scan.nextInt();\n",
    "if(spielfeld[zeile][spalte]==1)\n",
    "{\n",
    "    System.out.println(\"Treffer!!!\");\n",
    "    spielfeld[zeile][spalte]=0;\n",
    "}\n",
    "else System.out.println(\"Daneben =/\");\n",
    "    "
   ]
  },
  {
   "cell_type": "markdown",
   "id": "5dc836f9-ab90-4a48-9387-57319001569f",
   "metadata": {},
   "source": [
    "Das Spiel soll dann beendet sein, wenn alle Einträge 0 sind, also die Summe aller Einträge 0 ist."
   ]
  },
  {
   "cell_type": "code",
   "execution_count": null,
   "id": "3c1f9dec-3f43-4f6e-9fd1-7ef80cd34722",
   "metadata": {},
   "outputs": [],
   "source": [
    "// Summe mit Schleife ermitteln\n",
    "byte [][]  spielfeld={{0,0,0,1,1,0,0},\n",
    "                    {0,1,0,0,0,1,0},\n",
    "                    {0,1,0,0,0,1,0},\n",
    "                    {0,0,0,0,0,1,0},\n",
    "                    {0,0,0,0,0,0,0},\n",
    "                    {0,1,1,1,1,1,0},\n",
    "                    {0,0,0,0,0,0,0}};\n",
    "int anzahlZeilen=7;\n",
    "int anzahlSpalten=7;\n",
    "int summe=0;\n",
    "for(int y=0;y<anzahlZeilen;y++){\n",
    "    for(int x=0;x<anzahlSpalten;x++){\n",
    "        summe+=spielfeld[y][x];\n",
    "    }\n",
    "}\n",
    "System.out.println(\"Summe: \"+summe);\n",
    "\n"
   ]
  },
  {
   "cell_type": "code",
   "execution_count": null,
   "id": "25d40f1b-db89-4c2f-bda1-0fc46d4bfa26",
   "metadata": {},
   "outputs": [],
   "source": []
  },
  {
   "cell_type": "markdown",
   "id": "40065285-709b-4ff7-a8b3-eb0a72c1afbc",
   "metadata": {},
   "source": [
    "**Aufgabe0**: Gegeben ist folgendes Schiffeversenken Spielfeld. Schreiben einen Code, der den Benutzer solange auffordert ein Feld einzugeben, bist alle \"Schiffe\" versenkt sind."
   ]
  },
  {
   "cell_type": "code",
   "execution_count": null,
   "id": "483b4e29-8092-473c-b2b9-10c7eb5205a2",
   "metadata": {},
   "outputs": [],
   "source": [
    "byte [][]  spielfeld={{0,0,0},\n",
    "                    {0,0,0},\n",
    "                    {0,1,0}};\n",
    "\n",
    "\n",
    "// Lösung\n",
    "// Summe berechnen\n",
    "int summe=0;\n",
    "for(int y=0;y<3;y++){\n",
    "    for(int x=0;x<3;x++){\n",
    "        summe+=spielfeld[y][x];\n",
    "    }\n",
    "}\n",
    "while(summe!=0){\n",
    "    System.out.println(summe);\n",
    "    Scanner scan=new Scanner(System.in);\n",
    "    System.out.println(\"Bitte Zeile eingeben\");\n",
    "    int zeile=scan.nextInt();\n",
    "    System.out.println(\"Bitte Spalte eingeben\");\n",
    "    int spalte=scan.nextInt();\n",
    "    if(spielfeld[zeile][spalte]==1)\n",
    "    {\n",
    "        System.out.println(\"Treffer!!!\");\n",
    "        summe--;\n",
    "        spielfeld[zeile][spalte]=0;\n",
    "    }\n",
    "    else {\n",
    "        System.out.println(\"Daneben =/\");\n",
    "    }\n",
    "}   \n",
    "System.out.println(\"beendet\");"
   ]
  },
  {
   "cell_type": "markdown",
   "id": "d6d6fc3e-e651-41cb-94d6-2a9f58fa8b5d",
   "metadata": {},
   "source": [
    "**Erweiterung**: Realisieren Sie eine Ausgabe des Spielfelds für den Spieler.  \n",
    "Für die Ausgabe soll gelten:\n",
    "- \"Treffer\" Felder sollen mit einem \"X\" gekennzeichnet werden.\n",
    "- \"Daneben\" Felder sollen mit einer \"0\" gekennzeichnet werden.\n",
    "- Felder wo nicht nicht getippt wurden sollen mit einem \"-\" gekennzeichnet werden."
   ]
  },
  {
   "cell_type": "markdown",
   "id": "7e0db908-4eba-4ce5-b829-8128eee82db4",
   "metadata": {},
   "source": [
    "**Aufgabe1**: Eine Messstation misst fünf mal täglich die Temperatur. Speichern Sie die Temperaturen der letzten 5 Tage in einem 2D-Array:\n",
    "\n",
    "Montag: 5,12,15,4  \n",
    "Dienstag: 3,8,7,2  \n",
    "Mittwoch: 4,14,17,8  \n",
    "Donnerstag: 6,15,20,10  \n",
    "Freitag: 2,6,10,5"
   ]
  },
  {
   "cell_type": "markdown",
   "id": "e4b0635c-f81a-48c5-9f4d-503bad520462",
   "metadata": {},
   "source": [
    "**Aufgabe2**: Geben Sie alle Messwerte inkl. Tag am Bildschirm aus.  \n",
    "**Aufgabe3**: Ermitteln Sie die mittlerre Temperatur pro Tag.  \n",
    "**Aufgabe3**: Ermitteln Sie die mittlere Temperatur über alle Tage.  \n",
    "**Aufgabe4**: Geben Sie alle Messwerte in einer Art Tabelle aus.\n"
   ]
  },
  {
   "cell_type": "code",
   "execution_count": 1,
   "id": "8da8c213-e140-4846-a0cd-245d9a2ec1bd",
   "metadata": {},
   "outputs": [
    {
     "name": "stdout",
     "output_type": "stream",
     "text": [
      "Mittlerer Temperatur am Montag = 5.0\n",
      "Mittlerer Temperatur am Dienstag = 5.0\n",
      "Mittlerer Temperatur am Mittwoch = 10.75\n",
      "Mittlerer Temperatur am Donnerstag = 12.75\n",
      "Mittlerer Temperatur am Freitag = 5.75\n",
      "Mittlere Temperatur aller Tage 7\n"
     ]
    }
   ],
   "source": [
    "int [][] temperaturArray={{3,8,7,2},\n",
    "                          {3,8,7,2},\n",
    "                          {4,14,17,8},\n",
    "                          {6,15,20,10},\n",
    "                          {2,6,10,5}};\n",
    "String [] tage={\"Montag\",\"Dienstag\",\"Mittwoch\",\"Donnerstag\",\"Freitag\"};\n",
    "int [] meanTage={0,0,0,0,0};\n",
    "int summe=0;\n",
    "for(int y=0;y<5;y++){\n",
    "    for(int x=0;x<4;x++){\n",
    "        meanTage[y]+=temperaturArray[y][x];\n",
    "        summe+=temperaturArray[y][x];\n",
    "    }\n",
    "    System.out.println(\"Mittlerer Temperatur am \"+tage[y]+\" = \"+ (float)meanTage[y]/4);\n",
    "} \n",
    "System.out.println(\"Mittlere Temperatur aller Tage \"+summe/20);"
   ]
  },
  {
   "cell_type": "code",
   "execution_count": null,
   "id": "80ad538e-11b9-4138-8ac7-5d2c9d2a8cc3",
   "metadata": {},
   "outputs": [],
   "source": []
  },
  {
   "cell_type": "code",
   "execution_count": null,
   "id": "bb180d1e-84fa-476d-b827-cd2e25f9c80d",
   "metadata": {},
   "outputs": [],
   "source": []
  }
 ],
 "metadata": {
  "kernelspec": {
   "display_name": "Java",
   "language": "java",
   "name": "java"
  },
  "language_info": {
   "codemirror_mode": "java",
   "file_extension": ".jshell",
   "mimetype": "text/x-java-source",
   "name": "Java",
   "pygments_lexer": "java",
   "version": "11.0.17+8-post-Ubuntu-1ubuntu220.04"
  }
 },
 "nbformat": 4,
 "nbformat_minor": 5
}
