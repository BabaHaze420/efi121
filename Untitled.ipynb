{
 "cells": [
  {
   "cell_type": "code",
   "execution_count": 19,
   "metadata": {},
   "outputs": [
    {
     "ename": "ERROR",
     "evalue": " java.lang.IllegalStateException",
     "output_type": "error",
     "text": "ERROR: java.lang.IllegalStateException: class, interface, or enum expected\n @SuppressWarnings(\"unchecked\") Test<Integer> v1=new Test(20,\"Hall\n ^                                  ^                               \n\n",
     "traceback": [
      "\u001b[1;31mERROR: java.lang.IllegalStateException: class, interface, or enum expected\u001b[0;0m",
      "\u001b[1;31m @SuppressWarnings(\"unchecked\") Test<Integer> v1=new Test(20,\"Hall\u001b[0;0m",
      "\u001b[1;31m ^                                  ^                               \u001b[0;0m"
     ]
    }
   ],
   "source": [
    "public class Test <T>{\n",
    "    T alter;\n",
    "    String name;\n",
    "    public Test(T alter,String name){\n",
    "        this.alter=alter;\n",
    "        this.name=name;\n",
    "    }\n",
    "    public String toString(){\n",
    "        return alter+\" \"+name;\n",
    "    }\n",
    "}\n",
    "@SuppressWarnings(\"unchecked\")\n",
    "Test<Integer> v1=new Test(20,\"Hallo\");"
   ]
  },
  {
   "cell_type": "code",
   "execution_count": 7,
   "metadata": {},
   "outputs": [
    {
     "name": "stdout",
     "output_type": "stream",
     "text": [
      "Test\n"
     ]
    },
    {
     "data": {
      "text/plain": [
       "null"
      ]
     },
     "execution_count": 7,
     "metadata": {},
     "output_type": "execute_result"
    }
   ],
   "source": [
    "System.out.println(\"Test\");"
   ]
  },
  {
   "cell_type": "code",
   "execution_count": 16,
   "metadata": {},
   "outputs": [
    {
     "ename": "ERROR",
     "evalue": " java.lang.IllegalStateException",
     "output_type": "error",
     "text": "ERROR: java.lang.IllegalStateException: class, interface, or enum expected\n Box b1=new BoX()\n     ^            \n\n",
     "traceback": [
      "\u001b[1;31mERROR: java.lang.IllegalStateException: class, interface, or enum expected\u001b[0;0m",
      "\u001b[1;31m Box b1=new BoX()\u001b[0;0m",
      "\u001b[1;31m     ^            \u001b[0;0m"
     ]
    }
   ],
   "source": [
    "public class Box<T> {\n",
    "    // T stands for \"Type\"\n",
    "    private T t;\n",
    "\n",
    "    public void set(T t) { this.t = t; }\n",
    "    public T get() { return t; }\n",
    "}\n",
    "Box b1=new BoX();"
   ]
  },
  {
   "cell_type": "code",
   "execution_count": null,
   "metadata": {},
   "outputs": [],
   "source": []
  }
 ],
 "metadata": {
  "kernelspec": {
   "display_name": "Java",
   "language": "java",
   "name": "java"
  },
  "language_info": {
   "codemirror_mode": "text/x-java",
   "file_extension": ".java",
   "mimetype": "",
   "name": "Java",
   "nbconverter_exporter": "",
   "version": "1.8.0_25"
  }
 },
 "nbformat": 4,
 "nbformat_minor": 4
}
