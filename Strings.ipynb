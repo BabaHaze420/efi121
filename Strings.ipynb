{
 "cells": [
  {
   "cell_type": "markdown",
   "id": "0d81d0cb-5ae5-4301-9948-d26e84b7949a",
   "metadata": {},
   "source": [
    "# Strings\n",
    "Eine String-Variable ist kein primitiver Datentyp sondern ein Objekt. Sie besitzt nicht nur einen Wert (die\n",
    "Zeichenkette), sondern auch Methoden um bestimmte Eigenschaften dieser Zeichenkette zu ermitteln oder\n",
    "die gespeicherte Zeichenkette zu verändern. EIne Methode kann folgendermaßen aufgerufen werden.\n",
    "\n",
    "Objektname.**Methodenname(ggf. Parameter)**"
   ]
  },
  {
   "cell_type": "markdown",
   "id": "2c664fac-1375-4ee0-a3b9-ad6c846b446b",
   "metadata": {},
   "source": [
    "Die Methode length() liefert die Anzahl der zeichen einer Zeichenkette."
   ]
  },
  {
   "cell_type": "code",
   "execution_count": 1,
   "id": "5a8792d9-e478-449b-9dfe-5cc2f46728ef",
   "metadata": {},
   "outputs": [
    {
     "name": "stdin",
     "output_type": "stream",
     "text": [
      " Hallo\n"
     ]
    },
    {
     "name": "stdout",
     "output_type": "stream",
     "text": [
      "Sie haben insgesamt 5 Zeichen eingegeben\n"
     ]
    }
   ],
   "source": [
    "Scanner scan=new Scanner(System.in);\n",
    "String eingabe=scan.next();\n",
    "int anzahlZeichen=eingabe.length();\n",
    "System.out.println(\"Sie haben insgesamt \"+anzahlZeichen+ \" Zeichen eingegeben\");"
   ]
  },
  {
   "cell_type": "markdown",
   "id": "e15b69c3-01e7-4bd8-b665-02e6ca22c759",
   "metadata": {},
   "source": [
    "Die Methode charAt() liefert ein einzelnes Zeichen. Als Parameter muss der Funktion der gewünschte Index mitgegeben werden. "
   ]
  },
  {
   "cell_type": "code",
   "execution_count": 3,
   "id": "b3dd3dae-a823-449a-88a3-7c20673fcb50",
   "metadata": {},
   "outputs": [
    {
     "name": "stdout",
     "output_type": "stream",
     "text": [
      "Bitte Name eingeben\n"
     ]
    },
    {
     "name": "stdin",
     "output_type": "stream",
     "text": [
      " Rauschmaier\n"
     ]
    },
    {
     "name": "stdout",
     "output_type": "stream",
     "text": [
      "Dein Name begint mit einem R\n"
     ]
    }
   ],
   "source": [
    "Scanner scan=new Scanner(System.in);\n",
    "System.out.println(\"Bitte Name eingeben\");\n",
    "String eingabe=scan.next();\n",
    "char pos1=eingabe.charAt(0);\n",
    "System.out.println(\"Dein Name begint mit einem \"+pos1);"
   ]
  },
  {
   "cell_type": "markdown",
   "id": "cded6196-3273-4464-90bb-74caa7312818",
   "metadata": {},
   "source": [
    "Die Metode replace() ermöglicht es, Zeichen in der Zeichenkette zu ändern. Sie benötigt dazu dazu zwei Parameter:  \n",
    "1. welches Zeichen ersetzt werden soll\n",
    "2. durch was es ersetzt werden soll\n",
    "3. Es können auch folgen von Zeichen (Strings) ersetzt werden"
   ]
  },
  {
   "cell_type": "code",
   "execution_count": 4,
   "id": "20ba6a39-4518-4b61-b414-b4dd886d9291",
   "metadata": {},
   "outputs": [
    {
     "name": "stdout",
     "output_type": "stream",
     "text": [
      "Ich bin ein langer Text mit vielen Unterstrichen statt Leerzeichen\n"
     ]
    }
   ],
   "source": [
    "String text=\"Ich_bin_ein_langer_Text_mit_vielen_Unterstrichen_statt_Leerzeichen\";\n",
    "System.out.println(text.replace(\"_\",\" \"));"
   ]
  },
  {
   "cell_type": "markdown",
   "id": "225151ec-fd5b-497b-b754-1ffb4ec63cc7",
   "metadata": {},
   "source": [
    "**Wichtig:** Das aufrufen der Funktion ändert den Wert der Variable nicht!"
   ]
  },
  {
   "cell_type": "code",
   "execution_count": 14,
   "id": "5a67e939-242a-40e6-9167-8f76834394d0",
   "metadata": {},
   "outputs": [
    {
     "name": "stdout",
     "output_type": "stream",
     "text": [
      "Ich bin ein langer Text mit vielen Unterstrichen statt Leerzeichen\n",
      "Ich_bin_ein_langer_Text_mit_vielen_Unterstrichen_statt_Leerzeichen\n"
     ]
    }
   ],
   "source": [
    "String text=\"Ich_bin_ein_langer_Text_mit_vielen_Unterstrichen_statt_Leerzeichen\";\n",
    "System.out.println(text.replace(\"_\",\" \"));\n",
    "System.out.println(text);"
   ]
  },
  {
   "cell_type": "markdown",
   "id": "c06277f7-3b6f-403e-ac76-c08307d23ced",
   "metadata": {},
   "source": [
    "Soll der Wert der Variable geändert werden, muss das Ergebniss der Methode der Variable zugewiesen werden."
   ]
  },
  {
   "cell_type": "code",
   "execution_count": 14,
   "id": "8b89d794-d911-46b2-b897-4790e5d6e087",
   "metadata": {},
   "outputs": [
    {
     "name": "stdout",
     "output_type": "stream",
     "text": [
      "Ich bin ein langer Text mit vielen Unterstrichen statt Leerzeichen\n"
     ]
    }
   ],
   "source": [
    "String text=\"Ich_bin_ein_langer_Text_mit_vielen_Unterstrichen_statt_Leerzeichen\";\n",
    "text=text.replace(\"_\",\" \");\n",
    "System.out.println(text);"
   ]
  }
 ],
 "metadata": {
  "kernelspec": {
   "display_name": "Java",
   "language": "java",
   "name": "java"
  },
  "language_info": {
   "codemirror_mode": "java",
   "file_extension": ".jshell",
   "mimetype": "text/x-java-source",
   "name": "Java",
   "pygments_lexer": "java",
   "version": "11.0.17+8-post-Ubuntu-1ubuntu220.04"
  }
 },
 "nbformat": 4,
 "nbformat_minor": 5
}
