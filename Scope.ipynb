{
 "cells": [
  {
   "cell_type": "markdown",
   "id": "db783148-3f7c-4d72-8dc9-d14f7aa6dc10",
   "metadata": {},
   "source": [
    "# Variablen und deren Gültigkeitsbereich\n",
    "Wir beschäftigen uns in diesem Kapitel mit dem Gültigkeitsbereich von Variablen. Da es für die Lebensdauer von Variablen wichtig ist, wo im Quellcode einer Klasse diese deklariert werden.  \n",
    "Bisher beschäftigen wir uns nur mit einer Art von Variable:  \n",
    "**Lokale Variablen:** \n",
    "- Gültigkeit beschränkt sich auf die geschweiften Klammern, in denen die Variable deklariert wurde!\n",
    "- Benötigte Variablen werden in der Regel zu Begin deklariert.\n",
    "- Innerhalb einer Schleife werden nur Variabeln deklariert, welche nur temorär benötigt werden.\n",
    "- Erhalten nach der Deklaration keinen Standardwert zugewiesen. Wir können diese daher erst dann benutzen, nachdem sie explizit einen Wert zugewiesen bekommen haben."
   ]
  },
  {
   "cell_type": "code",
   "execution_count": 1,
   "id": "6a5e9db9-aac2-4d34-8569-8b4ba315cc0f",
   "metadata": {
    "tags": []
   },
   "outputs": [
    {
     "ename": "CompilationException",
     "evalue": "",
     "output_type": "error",
     "traceback": [
      "\u001b[1m\u001b[30m|   \u001b[1m\u001b[30m}while(\u001b[0m\u001b[1m\u001b[30m\u001b[41mx\u001b[0m\u001b[1m\u001b[30m>0);\u001b[0m",
      "\u001b[1m\u001b[31mcannot find symbol\u001b[0m",
      "\u001b[1m\u001b[31m  symbol:   variable x\u001b[0m",
      ""
     ]
    }
   ],
   "source": [
    "// Beispiel 1\n",
    "\n",
    "do {\n",
    "    int x=10;\n",
    "    System.out.println(x);\n",
    "    x=x-1;\n",
    "}while(x>0);"
   ]
  },
  {
   "cell_type": "code",
   "execution_count": null,
   "id": "a0b2355a-74f9-47c7-9833-635c49921b64",
   "metadata": {},
   "outputs": [],
   "source": [
    "int x;\n",
    "do {\n",
    "    int x=10;\n",
    "    System.out.println(x);\n",
    "    x=x-1;\n",
    "}while(x>0);"
   ]
  },
  {
   "cell_type": "code",
   "execution_count": 2,
   "id": "d31f1933-a5da-4315-a9f8-1fbb1730e45f",
   "metadata": {
    "tags": []
   },
   "outputs": [
    {
     "ename": "CompilationException",
     "evalue": "",
     "output_type": "error",
     "traceback": [
      "\u001b[1m\u001b[30m|   \u001b[1m\u001b[30m    System.out.println(\u001b[0m\u001b[1m\u001b[30m\u001b[41mtest\u001b[0m\u001b[1m\u001b[30m);\u001b[0m",
      "\u001b[1m\u001b[31mvariable test might not have been initialized\u001b[0m",
      ""
     ]
    }
   ],
   "source": [
    "// Beispiel 2\n",
    "{\n",
    "    int test;\n",
    "    System.out.println(test);\n",
    "}"
   ]
  },
  {
   "cell_type": "code",
   "execution_count": null,
   "id": "1bd10a33-4761-47f6-b9c2-869e0236befe",
   "metadata": {},
   "outputs": [],
   "source": [
    "// Beispiel 2\n",
    "{\n",
    "    int test=10;\n",
    "    System.out.println(test);\n",
    "}"
   ]
  },
  {
   "cell_type": "code",
   "execution_count": 4,
   "id": "9621c67c-c4da-440f-9786-e7d7e18dd173",
   "metadata": {
    "tags": []
   },
   "outputs": [
    {
     "ename": "CompilationException",
     "evalue": "",
     "output_type": "error",
     "traceback": [
      "\u001b[1m\u001b[30m|   \u001b[1m\u001b[30mwhile(!\u001b[0m\u001b[1m\u001b[30m\u001b[41meingabe\u001b[0m\u001b[1m\u001b[30m.equals(\"ende\")){\u001b[0m",
      "\u001b[1m\u001b[31mcannot find symbol\u001b[0m",
      "\u001b[1m\u001b[31m  symbol:   variable eingabe\u001b[0m",
      ""
     ]
    }
   ],
   "source": [
    "String eingabe;\n",
    "while(!eingabe.equals(\"ende\")){\n",
    "    Scanner scan=new Scanner(System.in);\n",
    "    eingabe=scan.next();\n",
    "    System.out.println(\"Sie möchten also nochmal etwas eingeben \");\n",
    "} \n"
   ]
  },
  {
   "cell_type": "code",
   "execution_count": null,
   "id": "c729b5cd-1528-4414-a5c3-31542cf91992",
   "metadata": {},
   "outputs": [],
   "source": [
    "String eingabe=\"\";\n",
    "while(!eingabe.equals(\"ende\")){\n",
    "    Scanner scan=new Scanner(System.in);\n",
    "    eingabe=scan.next();\n",
    "    System.out.println(\"Sie möchten also nochmal etwas eingeben \");\n",
    "} "
   ]
  },
  {
   "cell_type": "code",
   "execution_count": 1,
   "id": "7c43bcb3-a08a-4e13-98c0-1c21c4a60338",
   "metadata": {
    "tags": []
   },
   "outputs": [
    {
     "name": "stdout",
     "output_type": "stream",
     "text": [
      "0\n",
      "1\n",
      "2\n",
      "3\n",
      "4\n",
      "5\n",
      "6\n",
      "7\n",
      "8\n",
      "9\n"
     ]
    },
    {
     "ename": "CompilationException",
     "evalue": "",
     "output_type": "error",
     "traceback": [
      "\u001b[1m\u001b[30m|   \u001b[1m\u001b[30mSystem.out.println(\"Die Schleife wurde \" +\u001b[0m\u001b[1m\u001b[30m\u001b[41mi\u001b[0m\u001b[1m\u001b[30m+\" mal durchlaufen\");\u001b[0m",
      "\u001b[1m\u001b[31mcannot find symbol\u001b[0m",
      "\u001b[1m\u001b[31m  symbol:   variable i\u001b[0m",
      ""
     ]
    }
   ],
   "source": [
    "for (int i=0;i<10;i++){\n",
    "    System.out.println(i);\n",
    "}\n",
    "System.out.println(\"Die Schleife wurde \" +i+\" mal durchlaufen\");"
   ]
  },
  {
   "cell_type": "code",
   "execution_count": 5,
   "id": "290d4fa6-7562-4b94-a513-8ad9b4647421",
   "metadata": {},
   "outputs": [
    {
     "name": "stdout",
     "output_type": "stream",
     "text": [
      "0\n",
      "1\n",
      "2\n",
      "3\n",
      "4\n",
      "5\n",
      "6\n",
      "7\n",
      "8\n",
      "9\n",
      "Die Schleife wurde 10 mal durchlaufen\n"
     ]
    }
   ],
   "source": [
    "int i;\n",
    "for (i=0;i<10;i++){\n",
    "    System.out.println(i);\n",
    "}\n",
    "System.out.println(\"Die Schleife wurde \" +i+\" mal durchlaufen\");"
   ]
  },
  {
   "cell_type": "code",
   "execution_count": null,
   "id": "9d79c2f1-aa24-41af-b619-dccb3ef5b3a5",
   "metadata": {
    "tags": []
   },
   "outputs": [],
   "source": [
    "String eingabe=\"\";\n",
    "while(!eingabe.equals(\"ende\")){\n",
    "    Scanner scan=new Scanner(System.in);\n",
    "    String eingabe=scan.next();\n",
    "    System.out.println(\"Sie möchten also nochmal etwas eingeben \");\n",
    "}"
   ]
  },
  {
   "cell_type": "code",
   "execution_count": null,
   "id": "603d47e4-56bc-4f4f-b736-9ecf3d2bb234",
   "metadata": {},
   "outputs": [],
   "source": [
    "String eingabe=\"\";\n",
    "while(!eingabe.equals(\"ende\")){\n",
    "    Scanner scan=new Scanner(System.in);\n",
    "    eingabe=scan.next();\n",
    "    System.out.println(\"Sie möchten also nochmal etwas eingeben \");\n",
    "}"
   ]
  },
  {
   "cell_type": "code",
   "execution_count": null,
   "id": "1e0ab5a5-2942-4ea6-8ddf-2f91e8f7adb3",
   "metadata": {},
   "outputs": [],
   "source": []
  }
 ],
 "metadata": {
  "kernelspec": {
   "display_name": "Java",
   "language": "java",
   "name": "java"
  },
  "language_info": {
   "codemirror_mode": "java",
   "file_extension": ".jshell",
   "mimetype": "text/x-java-source",
   "name": "Java",
   "pygments_lexer": "java",
   "version": "11.0.17+8-post-Ubuntu-1ubuntu220.04"
  }
 },
 "nbformat": 4,
 "nbformat_minor": 5
}
