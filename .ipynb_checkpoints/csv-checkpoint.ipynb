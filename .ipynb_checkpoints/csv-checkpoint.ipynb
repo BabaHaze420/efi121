{
 "cells": [
  {
   "cell_type": "markdown",
   "metadata": {},
   "source": [
    "# Vokabel-App\n",
    "Sehr geehrte Firma ITSolutions GmBh,  \n",
    "ich habe mir die mich für relevanten englischen Vokabeln gespeichert, und würde mir nun ein Programm wünschen, welches mir dabei hilft die Vokabeln zu lernen. Können Sie eine Anwendung für mich entwickeln?"
   ]
  },
  {
   "cell_type": "code",
   "execution_count": null,
   "metadata": {},
   "outputs": [],
   "source": []
  },
  {
   "cell_type": "markdown",
   "metadata": {},
   "source": [
    "Die Daten der CSV Datei haben volgenden Aufbau:\n",
    "deutsche,englisch\n",
    "deutsch,englisch\n",
    "\n",
    "### Wichtige Code-Teile"
   ]
  },
  {
   "cell_type": "code",
   "execution_count": 12,
   "metadata": {},
   "outputs": [
    {
     "name": "stdout",
     "output_type": "stream",
     "text": [
      "Der Satz besteht aus 5 Wörtern\n",
      "Das\n",
      "ist\n",
      "ein\n",
      "langer\n",
      "Text\n"
     ]
    },
    {
     "data": {
      "text/plain": [
       "null"
      ]
     },
     "execution_count": 12,
     "metadata": {},
     "output_type": "execute_result"
    }
   ],
   "source": [
    "// String.split() Methode\n",
    "// Aufteilen eines Strings \n",
    "// Liefert ein String-Array!\n",
    "String satz=\"Das ist ein langer Text\";\n",
    "String[] woerter=satz.split(\" \");\n",
    "System.out.println(\"Der Satz besteht aus \"+woerter.length+\" Wörtern\");\n",
    "for(String i:woerter) System.out.println(i);"
   ]
  },
  {
   "cell_type": "code",
   "execution_count": 9,
   "metadata": {},
   "outputs": [
    {
     "data": {
      "text/plain": [
       "com.twosigma.beaker.javash.bkra532c796.BubbleSort"
      ]
     },
     "execution_count": 9,
     "metadata": {},
     "output_type": "execute_result"
    }
   ],
   "source": [
    "// CSV-Datei Zeile für Zeile einlesen\n",
    "import java.io.File;\n",
    "import java.util.Scanner;\n",
    "\n",
    "public static void einlesen() throws Exception{\n",
    "\t\tScanner sc=new Scanner(new File(\"C:\\\\Users\\\\Teaching\\\\Documents\\\\Unterricht\\\\22_23\\\\EFI121\\\\git\\\\test.csv\"));\t\t\n",
    "\t\t// Für Linux und MAC einen einfachen / statt \\\\ verwenden!\n",
    "        while(sc.hasNext())\n",
    "\t\t{\n",
    "\t\t    String neueZeile=sc.next();\n",
    "\t\t    System.out.println(neueZeile);\n",
    "\t\t} \n",
    "\t\tsc.close();\n",
    "\t}"
   ]
  },
  {
   "cell_type": "code",
   "execution_count": null,
   "metadata": {},
   "outputs": [],
   "source": []
  }
 ],
 "metadata": {
  "kernelspec": {
   "display_name": "Java",
   "language": "java",
   "name": "java"
  },
  "language_info": {
   "codemirror_mode": "text/x-java",
   "file_extension": ".java",
   "mimetype": "",
   "name": "Java",
   "nbconverter_exporter": "",
   "version": "1.8.0_25"
  }
 },
 "nbformat": 4,
 "nbformat_minor": 4
}
