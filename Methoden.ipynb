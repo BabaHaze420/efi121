{
 "cells": [
  {
   "cell_type": "markdown",
   "metadata": {},
   "source": [
    "# Methoden\n",
    "![Bild](https://raw.githubusercontent.com/sttoraus/Teaching-/master/funk.png)  \n"
   ]
  },
  {
   "cell_type": "code",
   "execution_count": null,
   "metadata": {},
   "outputs": [],
   "source": []
  },
  {
   "cell_type": "markdown",
   "metadata": {},
   "source": [
    "Es gibt verschiedene Gründe, warum es Sinn macht Methoden zu definieren.\n",
    "\n",
    "    1. Mehrer hintereinander ausgeführte Anweisungen können unter einem Namen zusammengefasst werden. Es kann also als Strukturierungselement angesehen werden, das eine Menge von Anweisungen gruppiert.\n",
    "\n",
    "    2. Ein längeres Programm erhält durch Funktionen eine Struktur, welche helfen kann, den Code besser lesen und verstehen zu können.\n",
    "\n",
    "    3. Ein Funktionsname kann dabei helfen zu verstehen, was das Unterprogramm berechnet oder ausführt.\n",
    "\n",
    "    4. Muss eine Codesequenz mehr als einmal ausgeführt werden, so braucht man nur den Funktionsnamen aufzurufen (Vermeidung von Codeduplizität).\n"
   ]
  },
  {
   "cell_type": "markdown",
   "metadata": {},
   "source": [
    "## Eine statische Funktion ohne Rückgabewert definieren\n",
    "Im folgenden erstellen wir unserer erste Methode."
   ]
  },
  {
   "cell_type": "code",
   "execution_count": null,
   "metadata": {},
   "outputs": [],
   "source": [
    "class Funktion {\n",
    "    // Methode printVerticalLine\n",
    "    public static void printVerticalLine(){\n",
    "        //Methoden-Körper\n",
    "        System.out.println(\"-----------------------------------------------------------------\");\n",
    "    }\n",
    "    public static void main() {\n",
    "        // Aufruf der Funktion im Hauptprogramm\n",
    "        printVerticalLine();\n",
    "    }\n",
    "}\n"
   ]
  },
  {
   "cell_type": "markdown",
   "metadata": {},
   "source": [
    "### Übergabe eins Werts/ einer Variable an eine Methode\n",
    "Oft braucht die Funktion Informationen vom Hauptprogramm. Diese werden auch Parameter genannt. Es muss bereits im Methoden Kopf angegeben werden, ob eine Methode einen Parameter erhält und von welchem Datantyp dieser sein muss."
   ]
  },
  {
   "cell_type": "code",
   "execution_count": null,
   "metadata": {},
   "outputs": [],
   "source": [
    "class Funktion {\n",
    "    // Definition einer Methode mit einem int Parameter\n",
    "    public static void printFlexibelVerticalLine(int x){\n",
    "        for(int i=0;i<x;i++){\n",
    "            System.out.print(\"-\");\n",
    "        }\n",
    "        System.out.println();\n",
    "    }\n",
    "    public static void main() {\n",
    "        // Aufruf der Funktion\n",
    "        printFlexibelVerticalLine(20);\n",
    "    }\n",
    "}"
   ]
  },
  {
   "cell_type": "markdown",
   "metadata": {},
   "source": [
    "## Eine Funktion mit mehreren Parametern\n",
    "Es können auch mehrere Parameter definiert werden. Diese müsen durch ein Komma getrennt werden."
   ]
  },
  {
   "cell_type": "code",
   "execution_count": null,
   "metadata": {},
   "outputs": [],
   "source": [
    "class Funktion {\n",
    "    // Definition einer Methode mit einem int Parameter\n",
    "    public static void muliplikation(int x,int y){\n",
    "        System.out.println(x+\" * \"+y+\" ist: \"+x*y);\n",
    "    }\n",
    "    public static void main() {\n",
    "        // Aufruf der Funktion\n",
    "        muliplikation(2,5);\n",
    "    }\n",
    "}"
   ]
  },
  {
   "cell_type": "markdown",
   "metadata": {},
   "source": [
    "2. Erstelle eine Funktion \"Division\". Es sollen 2 Werte übergeben werden und als Ausgabe soll das Produkt der beiden Zahlen ausgegeben werden. "
   ]
  },
  {
   "cell_type": "code",
   "execution_count": null,
   "metadata": {},
   "outputs": [],
   "source": []
  },
  {
   "cell_type": "markdown",
   "metadata": {},
   "source": [
    "### Eine Funktion mit Rückgabewert definieren\n",
    "Unsere selbst geschriebenen Methoden von oben haben bisher die Resultate lediglich auf der Konsole ausgegeben. Jedoch kann es sein, dass die Ergebnisse für den weiteren Programmverlauf gebraucht werden und weiter verarbeitet werden müssen. In solchen Fällen müssen die Methoden das berecnete Ergebnis zurückgeben (return)"
   ]
  },
  {
   "cell_type": "code",
   "execution_count": null,
   "metadata": {},
   "outputs": [],
   "source": [
    "class Funktion {\n",
    "    // Definition einer Methode mit einem int Parameter\n",
    "    public static int multiplikation(int x,int y){\n",
    "        return x*y;\n",
    "    }\n",
    "    public static void main() {\n",
    "        // Aufruf der Funktion\n",
    "        int ergebnis=multiplikation(2,5);\n",
    "        System.out.println(erbegnis);\n",
    "    }\n",
    "}"
   ]
  },
  {
   "cell_type": "code",
   "execution_count": null,
   "metadata": {},
   "outputs": [],
   "source": []
  },
  {
   "cell_type": "markdown",
   "metadata": {},
   "source": [
    "Sie möchten in den Ferien mit dem Auto in den Urlaub fahren. Schreiben Sie ein Programm, das die Benzinkosten für Ihre Urlaubsfahrt berechnet. \n",
    "Da die Berechnung der gesamten Benzinkosten etwas länger bzw. komplexer ist als die bisherigen Berechnungen, soll diese Berechnung in eine eigene Funktion ausgelagert werden.\n",
    "Folgende Parameter soll diese Funktion erhalten: Benzinpreis, Verbrauch des Autos, Länge der Strecke.\n",
    "Die Benzinkosten sollen am Bildschirm ausgegeben und zusätzlich als Variable zurückgegeben werden."
   ]
  },
  {
   "cell_type": "code",
   "execution_count": null,
   "metadata": {},
   "outputs": [],
   "source": []
  },
  {
   "cell_type": "code",
   "execution_count": null,
   "metadata": {},
   "outputs": [],
   "source": []
  },
  {
   "cell_type": "markdown",
   "metadata": {},
   "source": [
    "Übungsaufgaben:\n",
    "1. Erstelle eine Funktion \"durchschnitt\", welche als Parameter ein Array erhält. Die Funktion soll den Durchschnitt der Elemente der Liste berechnen und diesen zurück geben.\n",
    "2. Erstelle eine Funktion \"maximum\", welche als Parameter ein Array erhält. Die Funktion soll den größen Wert innerhalb der Liste bestimmen und diesen zurück geben.\n",
    "2. Erstelle eine Funktion \"minimum\", welche als Parameter ein Array erhält. Die Funktion soll den kleinsten Wert innerhalb der Liste bestimmen und diesen zurück geben.\n"
   ]
  },
  {
   "cell_type": "code",
   "execution_count": null,
   "metadata": {},
   "outputs": [],
   "source": [
    "int []zahlen={6,8,2,7,3,9,5,7,0,1,4};"
   ]
  },
  {
   "cell_type": "code",
   "execution_count": null,
   "metadata": {},
   "outputs": [],
   "source": []
  }
 ],
 "metadata": {
  "kernelspec": {
   "display_name": "Java",
   "language": "java",
   "name": "java"
  },
  "language_info": {
   "codemirror_mode": "text/x-java",
   "file_extension": ".java",
   "mimetype": "",
   "name": "Java",
   "nbconverter_exporter": "",
   "version": "1.8.0_25"
  }
 },
 "nbformat": 4,
 "nbformat_minor": 4
}
