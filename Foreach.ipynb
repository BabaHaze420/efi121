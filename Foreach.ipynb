{
 "cells": [
  {
   "cell_type": "markdown",
   "id": "5c58f7a8-d991-4e30-96d4-0e70ae416b75",
   "metadata": {},
   "source": [
    "# Iteration über Arrays\n",
    "Arrays sind Objekte, was bedeutet, dass Sie Eigenschaften und Methoden beseitzen. Eine wichtige Eigenschaft ist das Attribut \"length\""
   ]
  },
  {
   "cell_type": "code",
   "execution_count": 1,
   "id": "a1f4450c-059d-46a4-9f81-14e99956a624",
   "metadata": {},
   "outputs": [
    {
     "name": "stdout",
     "output_type": "stream",
     "text": [
      "Das Array besteht aus: 8 Zahlen\n"
     ]
    }
   ],
   "source": [
    "int [] intArray={4,6,1,3,5,6,7,8};\n",
    "System.out.println(\"Das Array besteht aus: \"+intArray.length+ \" Zahlen\");"
   ]
  },
  {
   "cell_type": "markdown",
   "id": "23ccfda0-fbc5-46f9-80be-0a85d1aa774c",
   "metadata": {},
   "source": [
    "**Wichtig**. Im gegensatz zu Strings ist die Länge bei den Arrays eine Eigenschaft und keine Methode. Daher keine Klammern!  \n",
    "Kann verwendet werden um über ein Array zu iterieren:"
   ]
  },
  {
   "cell_type": "code",
   "execution_count": 1,
   "id": "1d4c36c7-4e54-4333-8abd-91ec59db29a9",
   "metadata": {},
   "outputs": [
    {
     "name": "stdout",
     "output_type": "stream",
     "text": [
      "Das Array besteht aus: 6 Zahlen\n",
      "Die Zahlen lauten:\n",
      "4\n",
      "6\n",
      "1\n",
      "3\n",
      "5\n",
      "6\n"
     ]
    }
   ],
   "source": [
    "int [] intArray={4,6,1,3,5,6};\n",
    "System.out.println(\"Das Array besteht aus: \"+intArray.length+ \" Zahlen\");\n",
    "System.out.println(\"Die Zahlen lauten:\");\n",
    "for(int i=0;i<intArray.length;i++){\n",
    "    System.out.println(intArray[i]);\n",
    "}"
   ]
  },
  {
   "cell_type": "markdown",
   "id": "90f035ac-605c-45c8-b936-d16160527d10",
   "metadata": {},
   "source": [
    "# Foreach- Schleife\n",
    "Die foreach-Schleife ermöglicht es, auf einfache Weise ein Array zu durchlaufen. Geht allerdings nur für einen lesenden Zugriff."
   ]
  },
  {
   "cell_type": "code",
   "execution_count": 2,
   "id": "15017536-8a7f-418c-b89c-742534731973",
   "metadata": {},
   "outputs": [
    {
     "name": "stdout",
     "output_type": "stream",
     "text": [
      "4\n",
      "6\n",
      "1\n",
      "3\n",
      "5\n",
      "6\n"
     ]
    }
   ],
   "source": [
    "// Mit foreach\n",
    "int [] intArray={4,6,1,3,5,6};\n",
    "for(int i : intArray){\n",
    "    System.out.println(i);\n",
    "}\n"
   ]
  },
  {
   "cell_type": "code",
   "execution_count": 4,
   "id": "a3c2644e-55fa-432f-afed-f11c3948e5b6",
   "metadata": {},
   "outputs": [
    {
     "name": "stdout",
     "output_type": "stream",
     "text": [
      "0\n",
      "1\n",
      "2\n",
      "3\n",
      "4\n",
      "5\n",
      "6\n",
      "7\n",
      "8\n",
      "9\n"
     ]
    }
   ],
   "source": [
    "// geht!\n",
    "int [] intArray=new int[10];\n",
    "for(int i=0;i<intArray.length;i++){\n",
    "    intArray[i]=i;\n",
    "\n",
    "for(int i:intArray)System.out.println(i);"
   ]
  },
  {
   "cell_type": "code",
   "execution_count": 13,
   "id": "fc6c0474-04f2-429a-84e5-9071b027436b",
   "metadata": {},
   "outputs": [
    {
     "name": "stdout",
     "output_type": "stream",
     "text": [
      "0\n",
      "0\n",
      "0\n",
      "0\n",
      "0\n",
      "0\n",
      "0\n"
     ]
    }
   ],
   "source": [
    "// geht nicht!\n",
    "int [] intArray=new int[7];\n",
    "for(int i:intArray){\n",
    "    i=i;\n",
    "}\n",
    "for(int i:intArray)System.out.println(i);\n"
   ]
  },
  {
   "cell_type": "markdown",
   "id": "651e490c-f355-4a37-aa4b-6700dcf624f5",
   "metadata": {},
   "source": [
    "## break: Schleifenabbruch\n",
    "Schleifen können auch vorzeitig verlassen werden. Mit dem Schlüsselwort break können wir zu jeder Zeit eine Schleife verlassen, ohne auf den Kontrollpunkt warten zu müssen. Die folgende Schleife wird 5 mal durchlaufen, außer der User tippt die Zahl 5 ein."
   ]
  },
  {
   "cell_type": "code",
   "execution_count": 10,
   "id": "690c9bf3-fc3a-4d09-8844-59f446c0319f",
   "metadata": {},
   "outputs": [
    {
     "name": "stdout",
     "output_type": "stream",
     "text": [
      "Bitte Zahl ungleich 5 eingeben\n"
     ]
    },
    {
     "name": "stdin",
     "output_type": "stream",
     "text": [
      " 2\n"
     ]
    },
    {
     "name": "stdout",
     "output_type": "stream",
     "text": [
      "Bitte Zahl ungleich 5 eingeben\n"
     ]
    },
    {
     "name": "stdin",
     "output_type": "stream",
     "text": [
      " 5\n"
     ]
    },
    {
     "name": "stdout",
     "output_type": "stream",
     "text": [
      "Sie haben die 5 eingeben =/\n"
     ]
    }
   ],
   "source": [
    "import java.util.Scanner;\n",
    "Scanner s1= new Scanner(System.in);\n",
    "for(int i=0;i<10;i++){\n",
    "    System.out.println(\"Bitte Zahl ungleich 5 eingeben\");\n",
    "    int x=s1.nextInt();\n",
    "    if(x==5){\n",
    "        System.out.println(\"Sie haben die 5 eingeben =/\");\n",
    "        break;\n",
    "        }\n",
    "}"
   ]
  },
  {
   "cell_type": "code",
   "execution_count": 14,
   "id": "582f5813-8f97-4071-a80d-f22f4429ab77",
   "metadata": {},
   "outputs": [
    {
     "name": "stdout",
     "output_type": "stream",
     "text": [
      "Bitte Zahl ungleich 5 eingeben\n"
     ]
    },
    {
     "name": "stdin",
     "output_type": "stream",
     "text": [
      " 4\n"
     ]
    },
    {
     "name": "stdout",
     "output_type": "stream",
     "text": [
      "Bitte Zahl ungleich 5 eingeben\n"
     ]
    },
    {
     "name": "stdin",
     "output_type": "stream",
     "text": [
      " 5\n"
     ]
    },
    {
     "name": "stdout",
     "output_type": "stream",
     "text": [
      "Sie haben die 5 eingeben =/\n"
     ]
    }
   ],
   "source": [
    "import java.util.Scanner;\n",
    "Scanner s1= new Scanner(System.in);\n",
    "while(true){\n",
    "    System.out.println(\"Bitte Zahl ungleich 5 eingeben\");\n",
    "    int x=s1.nextInt();\n",
    "    if(x==5){\n",
    "        System.out.println(\"Sie haben die 5 eingeben =/\");\n",
    "        break;\n",
    "        }\n",
    "}\n",
    "    "
   ]
  },
  {
   "cell_type": "markdown",
   "id": "f7a0a28f-b184-4802-bc69-01fa74e76830",
   "metadata": {},
   "source": [
    "# continue: Schleifenfortführung\n",
    "Mit \"continue\" wird nur der aktuelle Schleifenzyklus beendet, und es geht mit dem nächsten weiter."
   ]
  },
  {
   "cell_type": "code",
   "execution_count": 11,
   "id": "13e31a55-d324-40fd-a948-f0352d4d4007",
   "metadata": {},
   "outputs": [
    {
     "name": "stdout",
     "output_type": "stream",
     "text": [
      "0\n",
      "1\n",
      "2\n",
      "3\n",
      "4\n",
      "6\n",
      "7\n",
      "8\n",
      "9\n"
     ]
    }
   ],
   "source": [
    "for(int i=0;i<10;i++){\n",
    "    if(i==5) continue;\n",
    "    System.out.println(i);\n",
    "}"
   ]
  },
  {
   "cell_type": "code",
   "execution_count": null,
   "id": "e96c4db4-fa60-4228-a16b-6f2c7e07aedb",
   "metadata": {},
   "outputs": [],
   "source": []
  }
 ],
 "metadata": {
  "kernelspec": {
   "display_name": "Java",
   "language": "java",
   "name": "java"
  },
  "language_info": {
   "codemirror_mode": "java",
   "file_extension": ".jshell",
   "mimetype": "text/x-java-source",
   "name": "Java",
   "pygments_lexer": "java",
   "version": "11.0.17+8-post-Ubuntu-1ubuntu220.04"
  }
 },
 "nbformat": 4,
 "nbformat_minor": 5
}
