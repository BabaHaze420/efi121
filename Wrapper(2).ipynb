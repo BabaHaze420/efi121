{
 "cells": [
  {
   "cell_type": "markdown",
   "metadata": {},
   "source": [
    "# Wrapper-Klassen"
   ]
  },
  {
   "cell_type": "code",
   "execution_count": 1,
   "metadata": {},
   "outputs": [
    {
     "name": "stdout",
     "output_type": "stream",
     "text": [
      "ACHTUNG!\n",
      "========\n",
      "- byte != Byte\n",
      "- short != Short\n",
      "- int != Integer\n",
      "- long != Long\n",
      "- float != Float\n",
      "- double != Double\n",
      "- - - - - - - - - -\n",
      "<byte> 8bit : -128, ..., 127\n",
      "<short> 16bit : -32768, ..., 32767\n",
      "<int> 32bit : -2147483648, ..., 2147483647\n",
      "<long> 64bit : -9223372036854775808, ..., 9223372036854775807\n",
      "<float> 32bit : 1.4E-45, ..., 3.4028235E38\n",
      "<double> 64bit : 4.9E-324, ..., 1.7976931348623157E308\n"
     ]
    },
    {
     "data": {
      "text/plain": [
       "null"
      ]
     },
     "execution_count": 1,
     "metadata": {},
     "output_type": "execute_result"
    }
   ],
   "source": [
    "System.out.println(\"ACHTUNG!\");\n",
    "System.out.println(\"========\");\n",
    "System.out.println(\"- byte != Byte\");\n",
    "System.out.println(\"- short != Short\");\n",
    "System.out.println(\"- int != Integer\");\n",
    "System.out.println(\"- long != Long\");\n",
    "System.out.println(\"- float != Float\");\n",
    "System.out.println(\"- double != Double\");\n",
    "System.out.println(\"- - - - - - - - - -\");\n",
    "System.out.println(\"<byte> 8bit : \" + Byte.MIN_VALUE + \", ..., \" + Byte.MAX_VALUE);\n",
    "System.out.println(\"<short> 16bit : \" + Short.MIN_VALUE + \", ..., \" + Short.MAX_VALUE);\n",
    "System.out.println(\"<int> 32bit : \" + Integer.MIN_VALUE + \", ..., \" + Integer.MAX_VALUE);\n",
    "System.out.println(\"<long> 64bit : \" + Long.MIN_VALUE + \", ..., \" + Long.MAX_VALUE);\n",
    "System.out.println(\"<float> 32bit : \" + Float.MIN_VALUE + \", ..., \" + Float.MAX_VALUE);\n",
    "System.out.println(\"<double> 64bit : \" + Double.MIN_VALUE + \", ..., \" + Double.MAX_VALUE);"
   ]
  },
  {
   "cell_type": "markdown",
   "metadata": {},
   "source": [
    "In der Java Standardbibliothek gibt es zu jedem primitiven Datentyp eine korrespondierende Klasse. Diese Klassen werden Wrapper-Klassen genannt. Übersetzt bedeutet das Wort wrapper soviel wie \"Verpackung\" oder \"Hülle\", womit der Charakter dieser Klassen bereits angedeutet ist: "
   ]
  },
  {
   "cell_type": "markdown",
   "metadata": {},
   "source": [
    "## Umwandeln\n",
    "Mithilfe von Wrapperklassen können primitive Datentypen in komplexe und komplexe in primitive gewandelt werden.\n",
    "    "
   ]
  },
  {
   "cell_type": "code",
   "execution_count": null,
   "metadata": {},
   "outputs": [],
   "source": []
  },
  {
   "cell_type": "code",
   "execution_count": 2,
   "metadata": {},
   "outputs": [
    {
     "name": "stdout",
     "output_type": "stream",
     "text": [
      "Das ist alles eine Zeichenkette: 20\n"
     ]
    }
   ],
   "source": [
    "// Integer to String\n",
    "int zahl=20;\n",
    "Integer intWrapper=20;\n",
    "String wrapper=intWrapper.toString();\n",
    "System.out.println(\"Das ist alles eine Zeichenkette: \"+wrapper);"
   ]
  },
  {
   "cell_type": "code",
   "execution_count": 2,
   "metadata": {},
   "outputs": [
    {
     "name": "stdout",
     "output_type": "stream",
     "text": [
      "Das ist eine Zahl: 56\n"
     ]
    }
   ],
   "source": [
    "//String to Integer\n",
    "String s1=\"56\";\n",
    "try{\n",
    "    int zahl=Integer.parseInt(s1); //\n",
    "    \n",
    "    System.out.println(\"Das ist eine Zahl: \"+zahl);\n",
    "    \n",
    "}\n",
    "catch(Exception e){\n",
    "    System.out.println(\"Fehler\");\n",
    "}\n"
   ]
  },
  {
   "cell_type": "markdown",
   "metadata": {},
   "source": [
    "# Autoboxing\n",
    "Neuere Java-Versionen machen das Arbeiten mit Wrapperklassen einfacher."
   ]
  },
  {
   "cell_type": "code",
   "execution_count": 19,
   "metadata": {},
   "outputs": [],
   "source": [
    "// alt\n",
    "Integer i1=new Integer(10);\n",
    "//neu\n",
    "Integer i2=10;"
   ]
  },
  {
   "cell_type": "markdown",
   "metadata": {},
   "source": [
    "## Unboxing\n",
    "Auch das entpacken ist nun einfacher."
   ]
  },
  {
   "cell_type": "code",
   "execution_count": 15,
   "metadata": {},
   "outputs": [
    {
     "name": "stdout",
     "output_type": "stream",
     "text": [
      "30\n",
      "30\n"
     ]
    }
   ],
   "source": [
    "//alt\n",
    "Integer i1=new Integer(10);\n",
    "System.out.println(20+i1.intValue());\n",
    "// neu\n",
    "System.out.println(20+i1);"
   ]
  },
  {
   "cell_type": "code",
   "execution_count": null,
   "metadata": {},
   "outputs": [],
   "source": []
  }
 ],
 "metadata": {
  "kernelspec": {
   "display_name": "Java",
   "language": "java",
   "name": "java"
  },
  "language_info": {
   "codemirror_mode": "text/x-java",
   "file_extension": ".java",
   "mimetype": "",
   "name": "Java",
   "nbconverter_exporter": "",
   "version": "1.8.0_25"
  }
 },
 "nbformat": 4,
 "nbformat_minor": 5
}
